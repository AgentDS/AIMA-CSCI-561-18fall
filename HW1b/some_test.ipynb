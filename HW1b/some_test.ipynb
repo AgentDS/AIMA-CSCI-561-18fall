{
 "cells": [
  {
   "cell_type": "code",
   "execution_count": 1,
   "metadata": {},
   "outputs": [
    {
     "data": {
      "text/plain": [
       "2"
      ]
     },
     "execution_count": 1,
     "metadata": {},
     "output_type": "execute_result"
    }
   ],
   "source": [
    "import numpy as np\n",
    "b = bin(10)\n",
    "bin(10).count('1')"
   ]
  },
  {
   "cell_type": "code",
   "execution_count": 2,
   "metadata": {},
   "outputs": [
    {
     "data": {
      "text/plain": [
       "(str, '0b1010', 10)"
      ]
     },
     "execution_count": 2,
     "metadata": {},
     "output_type": "execute_result"
    }
   ],
   "source": [
    "type(b),b,int(b[2:],2)"
   ]
  },
  {
   "cell_type": "code",
   "execution_count": 3,
   "metadata": {},
   "outputs": [
    {
     "data": {
      "text/plain": [
       "'0b1010'"
      ]
     },
     "execution_count": 3,
     "metadata": {},
     "output_type": "execute_result"
    }
   ],
   "source": [
    "a = 0b1010;c = 0b1011\n",
    "bin(a & c)"
   ]
  },
  {
   "cell_type": "code",
   "execution_count": 4,
   "metadata": {},
   "outputs": [
    {
     "data": {
      "text/plain": [
       "(1010, numpy.uint16)"
      ]
     },
     "execution_count": 4,
     "metadata": {},
     "output_type": "execute_result"
    }
   ],
   "source": [
    "res = np.uint16('1010')\n",
    "res,type(res)"
   ]
  },
  {
   "cell_type": "code",
   "execution_count": 5,
   "metadata": {},
   "outputs": [],
   "source": [
    "N = 15\n",
    "#[['0'*N for n in range(N)] for i in range(5)]\n",
    "import sys\n",
    "sizeof = sys.getsizeof\n",
    "import numpy as np"
   ]
  },
  {
   "cell_type": "code",
   "execution_count": 6,
   "metadata": {},
   "outputs": [
    {
     "data": {
      "text/plain": [
       "(200, 200)"
      ]
     },
     "execution_count": 6,
     "metadata": {},
     "output_type": "execute_result"
    }
   ],
   "source": [
    "list_int_map = [[2**N for n in range(N)] for i in range(12)]\n",
    "np_int16_map = [np.zeros(shape=(N,1),dtype=np.int16) for i in range(12)]\n",
    "sizeof(list_int_map), sizeof(np_int16_map)"
   ]
  },
  {
   "cell_type": "code",
   "execution_count": 7,
   "metadata": {},
   "outputs": [
    {
     "data": {
      "text/plain": [
       "(200, 200)"
      ]
     },
     "execution_count": 7,
     "metadata": {},
     "output_type": "execute_result"
    }
   ],
   "source": [
    "N = 20\n",
    "list_int20_map = [[0 for n in range(10)] for i in range(12)]\n",
    "np_int16_map = [np.ones(shape=(10,1),dtype=np.uint16) for i in range(12)]\n",
    "sizeof(list_int20_map), sizeof(np_int16_map)"
   ]
  },
  {
   "cell_type": "code",
   "execution_count": 8,
   "metadata": {},
   "outputs": [
    {
     "data": {
      "text/plain": [
       "(81, 82, 84, 88)"
      ]
     },
     "execution_count": 8,
     "metadata": {},
     "output_type": "execute_result"
    }
   ],
   "source": [
    "num8 = np.array(2**8,dtype=np.uint8);num16 = np.array(2**16,dtype=np.uint16)\n",
    "num32 = np.array(2**31,dtype=np.uint32);num64 = np.array(2**50,dtype=np.uint64)\n",
    "sizeof(num8), sizeof(num16), sizeof(num32), sizeof(num64)"
   ]
  },
  {
   "cell_type": "code",
   "execution_count": 9,
   "metadata": {},
   "outputs": [
    {
     "data": {
      "text/plain": [
       "(352, 1792)"
      ]
     },
     "execution_count": 9,
     "metadata": {},
     "output_type": "execute_result"
    }
   ],
   "source": [
    "l1 = [[i,i+1,i+2,i+4,i+5,i+6,i+7] for i in range(30)]\n",
    "l2 = np.array([[i,i+1,i+2,i+4,i+5,i+6,i+7] for i in range(30)])\n",
    "sizeof(l1), sizeof(l2)"
   ]
  },
  {
   "cell_type": "code",
   "execution_count": 10,
   "metadata": {},
   "outputs": [
    {
     "data": {
      "text/plain": [
       "(200, 496)"
      ]
     },
     "execution_count": 10,
     "metadata": {},
     "output_type": "execute_result"
    }
   ],
   "source": [
    "N=4\n",
    "sizeof([[1 for n in range(N)] for i in range(12)]),sizeof(np.array([[0 for n in range(N)] for i in range(12)])) "
   ]
  },
  {
   "cell_type": "code",
   "execution_count": 11,
   "metadata": {},
   "outputs": [
    {
     "data": {
      "text/plain": [
       "(200, 496)"
      ]
     },
     "execution_count": 11,
     "metadata": {},
     "output_type": "execute_result"
    }
   ],
   "source": [
    "sizeof([[2 for n in range(N)] for i in range(12)]),sizeof(np.array([[3 for n in range(N)] for i in range(12)])) "
   ]
  },
  {
   "cell_type": "code",
   "execution_count": 12,
   "metadata": {},
   "outputs": [
    {
     "data": {
      "text/plain": [
       "(200, 200)"
      ]
     },
     "execution_count": 12,
     "metadata": {},
     "output_type": "execute_result"
    }
   ],
   "source": [
    "N = 40\n",
    "string1 = [[[True,False]*8 for i in range(N)] for t in range(12)]\n",
    "#[[True, False, False, False, True, True, True],[False, False, True, False, False, True, True]]\n",
    "string2 = [[['10'*8] for i in range(N)] for t in range(12)]\n",
    "#[['1000111'],['0010011']]\n",
    "sizeof(string1), sizeof(string2)"
   ]
  },
  {
   "cell_type": "code",
   "execution_count": 13,
   "metadata": {},
   "outputs": [
    {
     "data": {
      "text/plain": [
       "(24, 38)"
      ]
     },
     "execution_count": 13,
     "metadata": {},
     "output_type": "execute_result"
    }
   ],
   "source": [
    "sizeof(False),sizeof('0')"
   ]
  },
  {
   "cell_type": "code",
   "execution_count": 14,
   "metadata": {},
   "outputs": [
    {
     "ename": "SyntaxError",
     "evalue": "invalid syntax (pilot_scooter.py, line 25)",
     "output_type": "error",
     "traceback": [
      "\u001b[0;36m  File \u001b[0;32m\"pilot_scooter.py\"\u001b[0;36m, line \u001b[0;32m25\u001b[0m\n\u001b[0;31m    self._smap =\u001b[0m\n\u001b[0m                 ^\u001b[0m\n\u001b[0;31mSyntaxError\u001b[0m\u001b[0;31m:\u001b[0m invalid syntax\n"
     ]
    }
   ],
   "source": [
    "import pilot_scooter as ps"
   ]
  },
  {
   "cell_type": "code",
   "execution_count": null,
   "metadata": {},
   "outputs": [],
   "source": [
    "in_path = ['input1.txt','input2.txt','input3.txt']\n",
    "case = [ps.problem_generator(path) for path in in_path]\n",
    "for i in range(3):\n",
    "    case[i].omap = ps.OLocationMap(N=case[i].N,mat_map=case[i].smap.mat_map[0])\n",
    "# points1 = [ps.point_calculator(case[i].smap, case[i].omap) for i in range(3)]"
   ]
  },
  {
   "cell_type": "code",
   "execution_count": null,
   "metadata": {},
   "outputs": [],
   "source": [
    "from itertools import combinations\n",
    "l = [0,1,2,3,4,5]\n",
    "all_row_comb = list(combinations(range(5),3))"
   ]
  },
  {
   "cell_type": "code",
   "execution_count": null,
   "metadata": {},
   "outputs": [],
   "source": [
    "from itertools import permutations\n",
    "def check_conflict_set(N,P):\n",
    "    res = []\n",
    "    for row in combinations(range(N),P):\n",
    "        for col in permutations(range(N),P):\n",
    "            abs_minus = np.abs(np.array(col) - np.array(row))\n",
    "            if len(abs_minus)==len(set(abs_minus)):\n",
    "                res.append([row,col])\n",
    "    return res\n",
    "               \n",
    "# all_col_perm"
   ]
  },
  {
   "cell_type": "code",
   "execution_count": null,
   "metadata": {},
   "outputs": [],
   "source": [
    "N = 9\n",
    "P = 9\n",
    "print \"Using set:\"\n",
    "%time res = check_conflict_set(N,P)"
   ]
  },
  {
   "cell_type": "code",
   "execution_count": null,
   "metadata": {},
   "outputs": [],
   "source": [
    "# def comrow(N,P):\n",
    "#     j = 0\n",
    "#     i = 0\n",
    "#     for pair in combinations(range(N),P):\n",
    "#         i += 1\n",
    "#         for col in permutations(range(N),P):\n",
    "#             j += 1"
   ]
  },
  {
   "cell_type": "code",
   "execution_count": null,
   "metadata": {},
   "outputs": [],
   "source": [
    "N = 13\n",
    "P = 9\n",
    "# print \"using permutation:\"\n",
    "# %time res = permutations(range(N),P)\n",
    "# print \"using combinations:\"\n",
    "# %time res = combinations(range(N),P)\n",
    "# %time comrow(N,P)"
   ]
  },
  {
   "cell_type": "code",
   "execution_count": null,
   "metadata": {},
   "outputs": [],
   "source": [
    "def test_main(in_path):\n",
    "    ps_problem = ps.problem_generator(in_path)\n",
    "    print(\"N = %d, P = %d, S = %d:\" % (ps_problem.N, ps_problem.P, ps_problem.S))\n",
    "    result = ps_problem.solve_stupid()\n",
    "    ps_problem.output_result('output.txt')"
   ]
  },
  {
   "cell_type": "code",
   "execution_count": null,
   "metadata": {},
   "outputs": [],
   "source": [
    "%time test_main('input3.txt')"
   ]
  },
  {
   "cell_type": "code",
   "execution_count": null,
   "metadata": {},
   "outputs": [],
   "source": [
    "%time test_main('input2.txt')"
   ]
  },
  {
   "cell_type": "code",
   "execution_count": null,
   "metadata": {},
   "outputs": [],
   "source": [
    "%time test_main('input1.txt')"
   ]
  },
  {
   "cell_type": "code",
   "execution_count": null,
   "metadata": {},
   "outputs": [],
   "source": [
    "import filecmp"
   ]
  },
  {
   "cell_type": "code",
   "execution_count": null,
   "metadata": {},
   "outputs": [],
   "source": [
    "filecmp.cmp('../HW1b/solution3.txt', '../HW1b/output3.txt')"
   ]
  },
  {
   "cell_type": "code",
   "execution_count": null,
   "metadata": {},
   "outputs": [],
   "source": [
    "from itertools import combinations\n",
    "list(combinations(range(4),4))"
   ]
  },
  {
   "cell_type": "code",
   "execution_count": null,
   "metadata": {},
   "outputs": [],
   "source": [
    "def using_stupid(in_path):\n",
    "    ps_problem = ps.problem_generator(in_path)\n",
    "    result = ps_problem.solve_stupid()\n",
    "    print \"best: \"+ str(result['point'])\n",
    "\n",
    "def using_smart(in_path):\n",
    "    ps_problem = ps.problem_generator(in_path)\n",
    "    result = ps_problem.solve_smart()\n",
    "    print \"best: \"+ str(result['point'])"
   ]
  },
  {
   "cell_type": "code",
   "execution_count": null,
   "metadata": {},
   "outputs": [],
   "source": [
    "# in_path = 'input1.txt'\n",
    "# print \"=\"*8 + in_path + \"=\"*8\n",
    "# print \"Using smart:\"\n",
    "# %time using_smart(in_path)\n",
    "# print \"Using stupid:\"\n",
    "# %time using_stupid(in_path)\n",
    "\n",
    "# in_path = 'input2.txt'\n",
    "# print \"=\"*8 + in_path + \"=\"*8\n",
    "# print \"Using smart:\"\n",
    "# %time using_smart(in_path)\n",
    "# print \"Using stupid:\"\n",
    "# %time using_stupid(in_path)\n",
    "\n",
    "# in_path = 'input3.txt'\n",
    "# print \"=\"*8 + in_path + \"=\"*8\n",
    "# print \"Using smart:\"\n",
    "# %time using_smart(in_path)\n",
    "# print \"Using stupid:\"\n",
    "# %time using_stupid(in_path)\n",
    "\n",
    "# in_path = 'input4.txt'\n",
    "# print \"=\"*8 + in_path + \"=\"*8\n",
    "# print \"Using smart:\"\n",
    "# %time using_smart(in_path)\n",
    "# # print \"Using stupid:\"\n",
    "# # %time using_stupid(in_path)"
   ]
  },
  {
   "cell_type": "code",
   "execution_count": 15,
   "metadata": {},
   "outputs": [],
   "source": [
    "import numpy as np\n",
    "matrices= [np.random.rand(9,9) for i in range(12)]"
   ]
  },
  {
   "cell_type": "code",
   "execution_count": 16,
   "metadata": {},
   "outputs": [],
   "source": [
    "sum1 = reduce(np.add, matrices)\n",
    "sum2 = matrices[0]\n",
    "for i in range(11):\n",
    "    sum2 = np.add(sum2,matrices[i+1])"
   ]
  },
  {
   "cell_type": "code",
   "execution_count": 17,
   "metadata": {},
   "outputs": [
    {
     "data": {
      "text/plain": [
       "array([[ True,  True,  True,  True,  True,  True,  True,  True,  True],\n",
       "       [ True,  True,  True,  True,  True,  True,  True,  True,  True],\n",
       "       [ True,  True,  True,  True,  True,  True,  True,  True,  True],\n",
       "       [ True,  True,  True,  True,  True,  True,  True,  True,  True],\n",
       "       [ True,  True,  True,  True,  True,  True,  True,  True,  True],\n",
       "       [ True,  True,  True,  True,  True,  True,  True,  True,  True],\n",
       "       [ True,  True,  True,  True,  True,  True,  True,  True,  True],\n",
       "       [ True,  True,  True,  True,  True,  True,  True,  True,  True],\n",
       "       [ True,  True,  True,  True,  True,  True,  True,  True,  True]])"
      ]
     },
     "execution_count": 17,
     "metadata": {},
     "output_type": "execute_result"
    }
   ],
   "source": [
    "sum2 == sum1"
   ]
  },
  {
   "cell_type": "code",
   "execution_count": 3,
   "metadata": {},
   "outputs": [
    {
     "data": {
      "text/plain": [
       "array([[ 1,  2,  3,  4,  5],\n",
       "       [ 5,  6,  7,  8,  9],\n",
       "       [ 9, 10, 11, 12, 13],\n",
       "       [13, 14, 15, 16, 17],\n",
       "       [17, 18, 19, 20, 21]])"
      ]
     },
     "execution_count": 3,
     "metadata": {},
     "output_type": "execute_result"
    }
   ],
   "source": [
    "import numpy as np\n",
    "smat = np.array([[1,2,3,4,5],[5,6,7,8,9],[9,10,11,12,13],[13,14,15,16,17],[17,18,19,20,21]])\n",
    "smat"
   ]
  },
  {
   "cell_type": "code",
   "execution_count": 9,
   "metadata": {},
   "outputs": [
    {
     "data": {
      "text/plain": [
       "array([[ 9, 10, 11, 12, 13],\n",
       "       [17, 18, 19, 20, 21]])"
      ]
     },
     "execution_count": 9,
     "metadata": {},
     "output_type": "execute_result"
    }
   ],
   "source": [
    "row = [0,1,2,4]\n",
    "P_tmp = 1\n",
    "smat[row[P_tmp+1:],:]"
   ]
  },
  {
   "cell_type": "code",
   "execution_count": 10,
   "metadata": {},
   "outputs": [
    {
     "data": {
      "text/plain": [
       "array([13, 21])"
      ]
     },
     "execution_count": 10,
     "metadata": {},
     "output_type": "execute_result"
    }
   ],
   "source": [
    "np.max(smat[row[P_tmp+1:],:],axis=1)"
   ]
  },
  {
   "cell_type": "code",
   "execution_count": 1,
   "metadata": {},
   "outputs": [
    {
     "data": {
      "text/plain": [
       "1290.3225806451612"
      ]
     },
     "execution_count": 1,
     "metadata": {},
     "output_type": "execute_result"
    }
   ],
   "source": [
    "f = 0.527\n",
    "s = 680\n",
    "s/f"
   ]
  },
  {
   "cell_type": "code",
   "execution_count": 5,
   "metadata": {},
   "outputs": [
    {
     "data": {
      "text/plain": [
       "1307674368000"
      ]
     },
     "execution_count": 5,
     "metadata": {},
     "output_type": "execute_result"
    }
   ],
   "source": [
    "import math\n",
    "math.factorial(15)"
   ]
  },
  {
   "cell_type": "code",
   "execution_count": null,
   "metadata": {},
   "outputs": [],
   "source": []
  }
 ],
 "metadata": {
  "kernelspec": {
   "display_name": "Python 2",
   "language": "python",
   "name": "python2"
  },
  "language_info": {
   "codemirror_mode": {
    "name": "ipython",
    "version": 2
   },
   "file_extension": ".py",
   "mimetype": "text/x-python",
   "name": "python",
   "nbconvert_exporter": "python",
   "pygments_lexer": "ipython2",
   "version": "2.7.15"
  }
 },
 "nbformat": 4,
 "nbformat_minor": 2
}
