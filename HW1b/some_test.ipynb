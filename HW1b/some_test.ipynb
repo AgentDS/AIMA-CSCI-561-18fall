{
 "cells": [
  {
   "cell_type": "code",
   "execution_count": 1,
   "metadata": {},
   "outputs": [
    {
     "data": {
      "text/plain": [
       "2"
      ]
     },
     "execution_count": 1,
     "metadata": {},
     "output_type": "execute_result"
    }
   ],
   "source": [
    "import numpy as np\n",
    "b = bin(10)\n",
    "bin(10).count('1')"
   ]
  },
  {
   "cell_type": "code",
   "execution_count": 2,
   "metadata": {},
   "outputs": [
    {
     "data": {
      "text/plain": [
       "(str, '0b1010', 10)"
      ]
     },
     "execution_count": 2,
     "metadata": {},
     "output_type": "execute_result"
    }
   ],
   "source": [
    "type(b),b,int(b[2:],2)"
   ]
  },
  {
   "cell_type": "code",
   "execution_count": 3,
   "metadata": {},
   "outputs": [
    {
     "data": {
      "text/plain": [
       "'0b1010'"
      ]
     },
     "execution_count": 3,
     "metadata": {},
     "output_type": "execute_result"
    }
   ],
   "source": [
    "a = 0b1010;c = 0b1011\n",
    "bin(a & c)"
   ]
  },
  {
   "cell_type": "code",
   "execution_count": 4,
   "metadata": {},
   "outputs": [
    {
     "data": {
      "text/plain": [
       "(1010, numpy.uint16)"
      ]
     },
     "execution_count": 4,
     "metadata": {},
     "output_type": "execute_result"
    }
   ],
   "source": [
    "res = np.uint16('1010')\n",
    "res,type(res)"
   ]
  },
  {
   "cell_type": "code",
   "execution_count": 5,
   "metadata": {},
   "outputs": [],
   "source": [
    "N = 15\n",
    "#[['0'*N for n in range(N)] for i in range(5)]\n",
    "import sys\n",
    "sizeof = sys.getsizeof\n",
    "import numpy as np"
   ]
  },
  {
   "cell_type": "code",
   "execution_count": 6,
   "metadata": {},
   "outputs": [
    {
     "data": {
      "text/plain": [
       "(200, 200)"
      ]
     },
     "execution_count": 6,
     "metadata": {},
     "output_type": "execute_result"
    }
   ],
   "source": [
    "list_int_map = [[2**N for n in range(N)] for i in range(12)]\n",
    "np_int16_map = [np.zeros(shape=(N,1),dtype=np.int16) for i in range(12)]\n",
    "sizeof(list_int_map), sizeof(np_int16_map)"
   ]
  },
  {
   "cell_type": "code",
   "execution_count": 7,
   "metadata": {},
   "outputs": [
    {
     "data": {
      "text/plain": [
       "(200, 200)"
      ]
     },
     "execution_count": 7,
     "metadata": {},
     "output_type": "execute_result"
    }
   ],
   "source": [
    "N = 20\n",
    "list_int20_map = [[0 for n in range(10)] for i in range(12)]\n",
    "np_int16_map = [np.ones(shape=(10,1),dtype=np.uint16) for i in range(12)]\n",
    "sizeof(list_int20_map), sizeof(np_int16_map)"
   ]
  },
  {
   "cell_type": "code",
   "execution_count": 8,
   "metadata": {},
   "outputs": [
    {
     "data": {
      "text/plain": [
       "(81, 82, 84, 88)"
      ]
     },
     "execution_count": 8,
     "metadata": {},
     "output_type": "execute_result"
    }
   ],
   "source": [
    "num8 = np.array(2**8,dtype=np.uint8);num16 = np.array(2**16,dtype=np.uint16)\n",
    "num32 = np.array(2**31,dtype=np.uint32);num64 = np.array(2**50,dtype=np.uint64)\n",
    "sizeof(num8), sizeof(num16), sizeof(num32), sizeof(num64)"
   ]
  },
  {
   "cell_type": "code",
   "execution_count": 9,
   "metadata": {},
   "outputs": [
    {
     "data": {
      "text/plain": [
       "(352, 1792)"
      ]
     },
     "execution_count": 9,
     "metadata": {},
     "output_type": "execute_result"
    }
   ],
   "source": [
    "l1 = [[i,i+1,i+2,i+4,i+5,i+6,i+7] for i in range(30)]\n",
    "l2 = np.array([[i,i+1,i+2,i+4,i+5,i+6,i+7] for i in range(30)])\n",
    "sizeof(l1), sizeof(l2)"
   ]
  },
  {
   "cell_type": "code",
   "execution_count": 10,
   "metadata": {},
   "outputs": [
    {
     "data": {
      "text/plain": [
       "(200, 496)"
      ]
     },
     "execution_count": 10,
     "metadata": {},
     "output_type": "execute_result"
    }
   ],
   "source": [
    "N=4\n",
    "sizeof([[1 for n in range(N)] for i in range(12)]),sizeof(np.array([[0 for n in range(N)] for i in range(12)])) "
   ]
  },
  {
   "cell_type": "code",
   "execution_count": 11,
   "metadata": {},
   "outputs": [
    {
     "data": {
      "text/plain": [
       "(200, 496)"
      ]
     },
     "execution_count": 11,
     "metadata": {},
     "output_type": "execute_result"
    }
   ],
   "source": [
    "sizeof([[2 for n in range(N)] for i in range(12)]),sizeof(np.array([[3 for n in range(N)] for i in range(12)])) "
   ]
  },
  {
   "cell_type": "code",
   "execution_count": 12,
   "metadata": {},
   "outputs": [
    {
     "data": {
      "text/plain": [
       "(200, 200)"
      ]
     },
     "execution_count": 12,
     "metadata": {},
     "output_type": "execute_result"
    }
   ],
   "source": [
    "N = 40\n",
    "string1 = [[[True,False]*8 for i in range(N)] for t in range(12)]\n",
    "#[[True, False, False, False, True, True, True],[False, False, True, False, False, True, True]]\n",
    "string2 = [[['10'*8] for i in range(N)] for t in range(12)]\n",
    "#[['1000111'],['0010011']]\n",
    "sizeof(string1), sizeof(string2)"
   ]
  },
  {
   "cell_type": "code",
   "execution_count": 13,
   "metadata": {},
   "outputs": [
    {
     "data": {
      "text/plain": [
       "(24, 38)"
      ]
     },
     "execution_count": 13,
     "metadata": {},
     "output_type": "execute_result"
    }
   ],
   "source": [
    "sizeof(False),sizeof('0')"
   ]
  },
  {
   "cell_type": "code",
   "execution_count": 14,
   "metadata": {},
   "outputs": [],
   "source": [
    "import pilot_scooter as ps"
   ]
  },
  {
   "cell_type": "code",
   "execution_count": 15,
   "metadata": {},
   "outputs": [],
   "source": [
    "in_path = ['input1.txt','input2.txt','input3.txt']\n",
    "case = [ps.problem_generator(path) for path in in_path]\n",
    "for i in range(3):\n",
    "    case[i].omap = ps.OLocationMap(N=case[i].N,mat_map=case[i].smap.mat_map[0])\n",
    "# points1 = [ps.point_calculator(case[i].smap, case[i].omap) for i in range(3)]"
   ]
  },
  {
   "cell_type": "code",
   "execution_count": 16,
   "metadata": {},
   "outputs": [
    {
     "name": "stdout",
     "output_type": "stream",
     "text": [
      "using for:\n",
      "CPU times: user 243 µs, sys: 38 µs, total: 281 µs\n",
      "Wall time: 289 µs\n"
     ]
    }
   ],
   "source": [
    "print \"using for:\"\n",
    "%time p0_1 = ps.point_calculator(case[0].smap, case[0].omap)\n",
    "# print \"using map:\"\n",
    "# %time p0_2 = ps.point_calculator(case[0].smap, case[0].omap, 2)"
   ]
  },
  {
   "cell_type": "code",
   "execution_count": 17,
   "metadata": {},
   "outputs": [],
   "source": [
    "from itertools import combinations\n",
    "l = [0,1,2,3,4,5]\n",
    "all_row_comb = list(combinations(range(5),3))"
   ]
  },
  {
   "cell_type": "code",
   "execution_count": 18,
   "metadata": {},
   "outputs": [],
   "source": [
    "from itertools import permutations\n",
    "def check_conflict_set(N,P):\n",
    "    res = []\n",
    "    for row in combinations(range(N),P):\n",
    "        for col in permutations(range(N),P):\n",
    "            abs_minus = np.abs(np.array(col) - np.array(row))\n",
    "            if len(abs_minus)==len(set(abs_minus)):\n",
    "                res.append([row,col])\n",
    "    return res\n",
    "               \n",
    "# all_col_perm"
   ]
  },
  {
   "cell_type": "code",
   "execution_count": 26,
   "metadata": {},
   "outputs": [
    {
     "name": "stdout",
     "output_type": "stream",
     "text": [
      "Using set:\n",
      "CPU times: user 2.26 s, sys: 80.9 ms, total: 2.34 s\n",
      "Wall time: 2.33 s\n"
     ]
    }
   ],
   "source": [
    "N = 9\n",
    "P = 9\n",
    "print \"Using set:\"\n",
    "%time res = check_conflict_set(N,P)"
   ]
  },
  {
   "cell_type": "code",
   "execution_count": 20,
   "metadata": {},
   "outputs": [],
   "source": [
    "def comrow(N,P):\n",
    "    j = 0\n",
    "    i = 0\n",
    "    for pair in combinations(range(N),P):\n",
    "        i += 1\n",
    "        for col in permutations(range(N),P):\n",
    "            j += 1"
   ]
  },
  {
   "cell_type": "code",
   "execution_count": 21,
   "metadata": {},
   "outputs": [],
   "source": [
    "N = 13\n",
    "P = 9\n",
    "# print \"using permutation:\"\n",
    "# %time res = permutations(range(N),P)\n",
    "# print \"using combinations:\"\n",
    "# %time res = combinations(range(N),P)\n",
    "# %time comrow(N,P)"
   ]
  },
  {
   "cell_type": "code",
   "execution_count": 27,
   "metadata": {},
   "outputs": [
    {
     "data": {
      "text/plain": [
       "362880"
      ]
     },
     "execution_count": 27,
     "metadata": {},
     "output_type": "execute_result"
    }
   ],
   "source": [
    "ps.complexity_calculator(9,9)"
   ]
  },
  {
   "cell_type": "code",
   "execution_count": null,
   "metadata": {},
   "outputs": [],
   "source": []
  }
 ],
 "metadata": {
  "kernelspec": {
   "display_name": "Python 2",
   "language": "python",
   "name": "python2"
  },
  "language_info": {
   "codemirror_mode": {
    "name": "ipython",
    "version": 2
   },
   "file_extension": ".py",
   "mimetype": "text/x-python",
   "name": "python",
   "nbconvert_exporter": "python",
   "pygments_lexer": "ipython2",
   "version": "2.7.15"
  }
 },
 "nbformat": 4,
 "nbformat_minor": 2
}
