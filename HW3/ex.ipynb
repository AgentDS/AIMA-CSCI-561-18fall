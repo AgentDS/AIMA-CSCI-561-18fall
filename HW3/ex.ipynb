{
 "cells": [
  {
   "cell_type": "code",
   "execution_count": 1,
   "metadata": {},
   "outputs": [],
   "source": [
    "import numpy as np"
   ]
  },
  {
   "cell_type": "code",
   "execution_count": 10,
   "metadata": {},
   "outputs": [],
   "source": [
    "A = np.random.rand(100,1000)\n",
    "B = np.random.rand(1000,200)\n",
    "C = np.zeros(shape=(100,200))"
   ]
  },
  {
   "cell_type": "code",
   "execution_count": 11,
   "metadata": {},
   "outputs": [
    {
     "name": "stdout",
     "output_type": "stream",
     "text": [
      "CPU times: user 3.55 ms, sys: 2.32 ms, total: 5.87 ms\n",
      "Wall time: 3.51 ms\n"
     ]
    },
    {
     "data": {
      "text/plain": [
       "array([[242.0492773 , 247.88868029, 246.80782625, ..., 246.40182258,\n",
       "        239.5679388 , 251.50040289],\n",
       "       [250.72722087, 258.68715904, 251.73427326, ..., 255.2085074 ,\n",
       "        254.32110922, 254.89908713],\n",
       "       [243.44274418, 243.15476241, 238.72077104, ..., 243.29694588,\n",
       "        240.30444435, 243.22823226],\n",
       "       ...,\n",
       "       [252.77420737, 256.92085586, 252.61407324, ..., 249.63353637,\n",
       "        253.1727666 , 257.79805638],\n",
       "       [257.24451869, 253.39396185, 246.39571465, ..., 250.03288062,\n",
       "        254.82647558, 255.71657376],\n",
       "       [257.82351982, 252.55252594, 245.55789496, ..., 249.69088312,\n",
       "        253.93780758, 252.65590006]])"
      ]
     },
     "execution_count": 11,
     "metadata": {},
     "output_type": "execute_result"
    }
   ],
   "source": [
    "%time np.matmul(A,B)"
   ]
  },
  {
   "cell_type": "code",
   "execution_count": 16,
   "metadata": {},
   "outputs": [],
   "source": [
    "def mul(A,B):\n",
    "    C = np.zeros(shape=(A.shape[0],B.shape[1]))\n",
    "    for i in range(100):\n",
    "        for j in range(200):\n",
    "            for k in range(1000):\n",
    "                C[i,j] += A[i,k]*B[k,j]\n",
    "    return C"
   ]
  },
  {
   "cell_type": "code",
   "execution_count": 17,
   "metadata": {},
   "outputs": [
    {
     "name": "stdout",
     "output_type": "stream",
     "text": [
      "CPU times: user 18.8 s, sys: 241 ms, total: 19.1 s\n",
      "Wall time: 18.9 s\n"
     ]
    },
    {
     "data": {
      "text/plain": [
       "array([[242.0492773 , 247.88868029, 246.80782625, ..., 246.40182258,\n",
       "        239.5679388 , 251.50040289],\n",
       "       [250.72722087, 258.68715904, 251.73427326, ..., 255.2085074 ,\n",
       "        254.32110922, 254.89908713],\n",
       "       [243.44274418, 243.15476241, 238.72077104, ..., 243.29694588,\n",
       "        240.30444435, 243.22823226],\n",
       "       ...,\n",
       "       [252.77420737, 256.92085586, 252.61407324, ..., 249.63353637,\n",
       "        253.1727666 , 257.79805638],\n",
       "       [257.24451869, 253.39396185, 246.39571465, ..., 250.03288062,\n",
       "        254.82647558, 255.71657376],\n",
       "       [257.82351982, 252.55252594, 245.55789496, ..., 249.69088312,\n",
       "        253.93780758, 252.65590006]])"
      ]
     },
     "execution_count": 17,
     "metadata": {},
     "output_type": "execute_result"
    }
   ],
   "source": [
    "%time mul(A,B)"
   ]
  },
  {
   "cell_type": "code",
   "execution_count": null,
   "metadata": {},
   "outputs": [],
   "source": []
  }
 ],
 "metadata": {
  "kernelspec": {
   "display_name": "Python 2",
   "language": "python",
   "name": "python2"
  },
  "language_info": {
   "codemirror_mode": {
    "name": "ipython",
    "version": 2
   },
   "file_extension": ".py",
   "mimetype": "text/x-python",
   "name": "python",
   "nbconvert_exporter": "python",
   "pygments_lexer": "ipython2",
   "version": "2.7.15"
  }
 },
 "nbformat": 4,
 "nbformat_minor": 2
}
