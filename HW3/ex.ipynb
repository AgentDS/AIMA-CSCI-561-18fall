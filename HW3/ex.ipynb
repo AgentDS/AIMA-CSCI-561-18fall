{
 "cells": [
  {
   "cell_type": "code",
   "execution_count": 1,
   "metadata": {},
   "outputs": [],
   "source": [
    "import numpy as np"
   ]
  },
  {
   "cell_type": "code",
   "execution_count": 2,
   "metadata": {},
   "outputs": [],
   "source": [
    "A = np.random.rand(100,1000)\n",
    "B = np.random.rand(1000,200)\n",
    "C = np.zeros(shape=(100,200))"
   ]
  },
  {
   "cell_type": "code",
   "execution_count": 3,
   "metadata": {},
   "outputs": [
    {
     "name": "stdout",
     "output_type": "stream",
     "text": [
      "CPU times: user 111 ms, sys: 39.8 ms, total: 151 ms\n",
      "Wall time: 307 ms\n"
     ]
    },
    {
     "data": {
      "text/plain": [
       "array([[242.62817293, 243.89623691, 253.98485558, ..., 251.85122259,\n",
       "        249.12963712, 254.48100751],\n",
       "       [256.09651434, 254.05743929, 263.5884739 , ..., 267.42035863,\n",
       "        256.8047473 , 261.36893534],\n",
       "       [246.42785062, 245.77132727, 254.4690773 , ..., 260.06896502,\n",
       "        252.48868373, 256.1393381 ],\n",
       "       ...,\n",
       "       [244.4179218 , 250.68482071, 250.49842005, ..., 253.832839  ,\n",
       "        252.59085274, 257.60993617],\n",
       "       [244.31872741, 245.99949956, 253.69049177, ..., 250.93335429,\n",
       "        250.03341098, 250.87431795],\n",
       "       [254.3893898 , 254.29282587, 257.64149344, ..., 265.96438668,\n",
       "        254.40730844, 260.7904536 ]])"
      ]
     },
     "execution_count": 3,
     "metadata": {},
     "output_type": "execute_result"
    }
   ],
   "source": [
    "%time np.matmul(A,B)"
   ]
  },
  {
   "cell_type": "code",
   "execution_count": 4,
   "metadata": {},
   "outputs": [],
   "source": [
    "def mul(A,B):\n",
    "    C = np.zeros(shape=(A.shape[0],B.shape[1]))\n",
    "    for i in range(100):\n",
    "        for j in range(200):\n",
    "            for k in range(1000):\n",
    "                C[i,j] += A[i,k]*B[k,j]\n",
    "    return C"
   ]
  },
  {
   "cell_type": "code",
   "execution_count": 5,
   "metadata": {},
   "outputs": [
    {
     "name": "stdout",
     "output_type": "stream",
     "text": [
      "CPU times: user 18.7 s, sys: 284 ms, total: 19 s\n",
      "Wall time: 18.8 s\n"
     ]
    },
    {
     "data": {
      "text/plain": [
       "array([[242.62817293, 243.89623691, 253.98485558, ..., 251.85122259,\n",
       "        249.12963712, 254.48100751],\n",
       "       [256.09651434, 254.05743929, 263.5884739 , ..., 267.42035863,\n",
       "        256.8047473 , 261.36893534],\n",
       "       [246.42785062, 245.77132727, 254.4690773 , ..., 260.06896502,\n",
       "        252.48868373, 256.1393381 ],\n",
       "       ...,\n",
       "       [244.4179218 , 250.68482071, 250.49842005, ..., 253.832839  ,\n",
       "        252.59085274, 257.60993617],\n",
       "       [244.31872741, 245.99949956, 253.69049177, ..., 250.93335429,\n",
       "        250.03341098, 250.87431795],\n",
       "       [254.3893898 , 254.29282587, 257.64149344, ..., 265.96438668,\n",
       "        254.40730844, 260.7904536 ]])"
      ]
     },
     "execution_count": 5,
     "metadata": {},
     "output_type": "execute_result"
    }
   ],
   "source": [
    "%time mul(A,B)"
   ]
  },
  {
   "cell_type": "code",
   "execution_count": 6,
   "metadata": {},
   "outputs": [],
   "source": [
    "x=2"
   ]
  },
  {
   "cell_type": "code",
   "execution_count": 7,
   "metadata": {},
   "outputs": [
    {
     "data": {
      "text/plain": [
       "True"
      ]
     },
     "execution_count": 7,
     "metadata": {},
     "output_type": "execute_result"
    }
   ],
   "source": [
    "1<= x < 3"
   ]
  },
  {
   "cell_type": "code",
   "execution_count": 24,
   "metadata": {},
   "outputs": [],
   "source": [
    "A = np.random.rand(10000000)"
   ]
  },
  {
   "cell_type": "code",
   "execution_count": 25,
   "metadata": {},
   "outputs": [],
   "source": [
    "def comp1(A):\n",
    "    n = A.shape[0]\n",
    "    for i in range(n):\n",
    "        if 0.1< A[i] < 0.5:\n",
    "            x=1\n",
    "\n",
    "def comp2(A):\n",
    "    n = A.shape[0]\n",
    "    for i in range(n):\n",
    "        if 0.1 < A[i] and A[i] < 0.5:\n",
    "            x = 1\n"
   ]
  },
  {
   "cell_type": "code",
   "execution_count": 26,
   "metadata": {},
   "outputs": [
    {
     "name": "stdout",
     "output_type": "stream",
     "text": [
      "CPU times: user 5.3 s, sys: 50.1 ms, total: 5.35 s\n",
      "Wall time: 5.34 s\n"
     ]
    }
   ],
   "source": [
    "%time comp1(A)"
   ]
  },
  {
   "cell_type": "code",
   "execution_count": 27,
   "metadata": {},
   "outputs": [
    {
     "name": "stdout",
     "output_type": "stream",
     "text": [
      "CPU times: user 5.97 s, sys: 48.8 ms, total: 6.02 s\n",
      "Wall time: 5.99 s\n"
     ]
    }
   ],
   "source": [
    "%time comp2(A)"
   ]
  },
  {
   "cell_type": "code",
   "execution_count": null,
   "metadata": {},
   "outputs": [],
   "source": [
    "def trans_numpy(index,action):\n",
    "    if index[0] == 0 and index[1] == 0:  # case 1\n",
    "        act_dict = {'N': np.array([0, 0]), 'S': np.array([0, 1]), 'E': np.array([1, 0]), 'W': np.array([0, 0])}\n",
    "    elif index[0] == 0 and index[1] == self.n - 1:  # case 2\n",
    "        act_dict = {'N': np.array([0, -1]), 'S': np.array([0, 0]), 'E': np.array([1, 0]), 'W': np.array([0, 0])}\n",
    "    elif index[0] == self.n - 1 and index[1] == 0:  # case 3\n",
    "        act_dict = {'N': np.array([0, 0]), 'S': np.array([0, 1]), 'E': np.array([0, 0]), 'W': np.array([-1, 0])}\n",
    "    elif index[0] == self.n - 1 and index[1] == self.n - 1:  # case 4\n",
    "        act_dict = {'N': np.array([0, -1]), 'S': np.array([0, 0]), 'E': np.array([0, 0]), 'W': np.array([-1, 0])}\n",
    "    elif index[1] == 0 and 0 < index[0] < self.n - 1:  # case 5\n",
    "        act_dict = {'N': np.array([0, 0]), 'S': np.array([0, 1]), 'E': np.array([1, 0]), 'W': np.array([-1, 0])}\n",
    "    elif index[0] == 0 and 0 < index[1] < self.n - 1:  # case 6\n",
    "        act_dict = {'N': np.array([0, -1]), 'S': np.array([0, 1]), 'E': np.array([1, 0]), 'W': np.array([0, 0])}\n",
    "    elif index[1] == self.n - 1 and 0 < index[0] < self.n - 1:  # case 7\n",
    "        act_dict = {'N': np.array([0, -1]), 'S': np.array([0, 0]), 'E': np.array([1, 0]), 'W': np.array([-1, 0])}\n",
    "    elif index[0] == self.n - 1 and 0 < index[1] < self.n - 1:  # case 8\n",
    "        act_dict = {'N': np.array([0, -1]), 'S': np.array([0, 1]), 'E': np.array([0, 0]), 'W': np.array([-1, 0])}\n",
    "    else:  # case 9\n",
    "        act_dict = {'N': np.array([0, -1]), 'S': np.array([0, 1]), 'E': np.array([1, 0]), 'W': np.array([-1, 0])}\n",
    "    \n",
    "    if action == 'N':\n",
    "        # return index + np.array([act_dict['N'],act_dict['E'],act_dict['W'],act_dict['S']])\n",
    "        return {'move': np.array([act_dict['N'],act_dict['E'],act_dict['W'],act_dict['S']], 'index': np.array([index + act_dict['N'], index + act_dict['E'], index + act_dict['W'], index + act_dict['S']])}\n",
    "    elif action == 'S':\n",
    "        # return index + np.array([act_dict['S'],act_dict['W'],act_dict['E'],act_dict['N']])\n",
    "        return np.array([index + act_dict['S'], index + act_dict['W'], index + act_dict['E'], index + act_dict['N']])\n",
    "    elif action == 'E':\n",
    "        # return index + np.array([act_dict['E'],act_dict['S'],act_dict['N'],act_dict['W']])\n",
    "        return np.array([index + act_dict['E'], index + act_dict['S'], index + act_dict['N'], index + act_dict['W']])\n",
    "    else:\n",
    "        # return index + np.array([act_dict['W'],act_dict['N'],act_dict['S'],act_dict['E']])\n",
    "        return np.array([index + act_dict['W'], index + act_dict['N'], index + act_dict['S'], index + act_dict['E']])\n",
    "    \n",
    "        "
   ]
  },
  {
   "cell_type": "code",
   "execution_count": null,
   "metadata": {},
   "outputs": [],
   "source": [
    "def trans_list(index,action):\n",
    "    if index[0] == 0 and index[1] == 0:  # case 1\n",
    "        act_dict = {'N': [0, 0], 'S': [0, 1], 'E': [1, 0], 'W': [0, 0]}\n",
    "    elif index[0] == 0 and index[1] == self.n - 1:  # case 2\n",
    "        act_dict = {'N': [0, -1], 'S': [0, 0], 'E': [1, 0], 'W': [0, 0]}\n",
    "    elif index[0] == self.n - 1 and index[1] == 0:  # case 3\n",
    "        act_dict = {'N': [0, 0], 'S': [0, 1], 'E': [0, 0], 'W': [-1, 0]}\n",
    "    elif index[0] == self.n - 1 and index[1] == self.n - 1:  # case 4\n",
    "        act_dict = {'N': [0, -1], 'S': [0, 0], 'E': [0, 0], 'W': [-1, 0]}\n",
    "    elif index[1] == 0 and 0 < index[0] < self.n - 1:  # case 5\n",
    "        act_dict = {'N': [0, 0], 'S': [0, 1], 'E': [1, 0], 'W': [-1, 0]}\n",
    "    elif index[0] == 0 and 0 < index[1] < self.n - 1:  # case 6\n",
    "        act_dict = {'N': [0, -1], 'S': [0, 1], 'E': [1, 0], 'W': [0, 0]}\n",
    "    elif index[1] == self.n - 1 and 0 < index[0] < self.n - 1:  # case 7\n",
    "        act_dict = {'N': [0, -1], 'S': [0, 0], 'E': [1, 0], 'W': [-1, 0]}\n",
    "    elif index[0] == self.n - 1 and 0 < index[1] < self.n - 1:  # case 8\n",
    "        act_dict = {'N': [0, -1], 'S': [0, 1], 'E': [0, 0], 'W': [-1, 0]}\n",
    "    else:  # case 9\n",
    "        act_dict = {'N': [0, -1], 'S': [0, 1], 'E': [1, 0], 'W': [-1, 0]}\n",
    "        \n"
   ]
  },
  {
   "cell_type": "code",
   "execution_count": 28,
   "metadata": {},
   "outputs": [
    {
     "ename": "TypeError",
     "evalue": "data type not understood",
     "output_type": "error",
     "traceback": [
      "\u001b[0;31m---------------------------------------------------------------------------\u001b[0m",
      "\u001b[0;31mTypeError\u001b[0m                                 Traceback (most recent call last)",
      "\u001b[0;32m<ipython-input-28-deda6cb1ee84>\u001b[0m in \u001b[0;36m<module>\u001b[0;34m()\u001b[0m\n\u001b[0;32m----> 1\u001b[0;31m \u001b[0mA\u001b[0m \u001b[0;34m=\u001b[0m \u001b[0mnp\u001b[0m\u001b[0;34m.\u001b[0m\u001b[0mzeros\u001b[0m\u001b[0;34m(\u001b[0m\u001b[0;36m10\u001b[0m\u001b[0;34m,\u001b[0m\u001b[0;36m1000\u001b[0m\u001b[0;34m)\u001b[0m\u001b[0;34m\u001b[0m\u001b[0m\n\u001b[0m\u001b[1;32m      2\u001b[0m \u001b[0mlen\u001b[0m\u001b[0;34m(\u001b[0m\u001b[0mA\u001b[0m\u001b[0;34m)\u001b[0m\u001b[0;34m\u001b[0m\u001b[0m\n",
      "\u001b[0;31mTypeError\u001b[0m: data type not understood"
     ]
    }
   ],
   "source": [
    "A = np.zeros(10,1000)"
   ]
  },
  {
   "cell_type": "code",
   "execution_count": null,
   "metadata": {},
   "outputs": [],
   "source": []
  }
 ],
 "metadata": {
  "kernelspec": {
   "display_name": "Python 2",
   "language": "python",
   "name": "python2"
  },
  "language_info": {
   "codemirror_mode": {
    "name": "ipython",
    "version": 2
   },
   "file_extension": ".py",
   "mimetype": "text/x-python",
   "name": "python",
   "nbconvert_exporter": "python",
   "pygments_lexer": "ipython2",
   "version": "2.7.15"
  }
 },
 "nbformat": 4,
 "nbformat_minor": 2
}
