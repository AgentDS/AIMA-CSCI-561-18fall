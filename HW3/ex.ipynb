{
 "cells": [
  {
   "cell_type": "code",
   "execution_count": 1,
   "metadata": {},
   "outputs": [],
   "source": [
    "from __future__ import print_function\n",
    "import SpeedRacer as sr\n",
    "from numpy.random import rand\n",
    "import numpy as np"
   ]
  },
  {
   "cell_type": "code",
   "execution_count": 6,
   "metadata": {},
   "outputs": [],
   "source": [
    "x=2"
   ]
  },
  {
   "cell_type": "code",
   "execution_count": 7,
   "metadata": {},
   "outputs": [
    {
     "data": {
      "text/plain": [
       "True"
      ]
     },
     "execution_count": 7,
     "metadata": {},
     "output_type": "execute_result"
    }
   ],
   "source": [
    "1<= x < 3"
   ]
  },
  {
   "cell_type": "code",
   "execution_count": 24,
   "metadata": {},
   "outputs": [],
   "source": [
    "A = np.random.rand(10000000)"
   ]
  },
  {
   "cell_type": "code",
   "execution_count": 25,
   "metadata": {},
   "outputs": [],
   "source": [
    "def comp1(A):\n",
    "    n = A.shape[0]\n",
    "    for i in range(n):\n",
    "        if 0.1< A[i] < 0.5:\n",
    "            x=1\n",
    "\n",
    "def comp2(A):\n",
    "    n = A.shape[0]\n",
    "    for i in range(n):\n",
    "        if 0.1 < A[i] and A[i] < 0.5:\n",
    "            x = 1\n"
   ]
  },
  {
   "cell_type": "code",
   "execution_count": 26,
   "metadata": {},
   "outputs": [
    {
     "name": "stdout",
     "output_type": "stream",
     "text": [
      "CPU times: user 5.3 s, sys: 50.1 ms, total: 5.35 s\n",
      "Wall time: 5.34 s\n"
     ]
    }
   ],
   "source": [
    "%time comp1(A)"
   ]
  },
  {
   "cell_type": "code",
   "execution_count": 27,
   "metadata": {},
   "outputs": [
    {
     "name": "stdout",
     "output_type": "stream",
     "text": [
      "CPU times: user 5.97 s, sys: 48.8 ms, total: 6.02 s\n",
      "Wall time: 5.99 s\n"
     ]
    }
   ],
   "source": [
    "%time comp2(A)"
   ]
  },
  {
   "cell_type": "code",
   "execution_count": 18,
   "metadata": {},
   "outputs": [],
   "source": [
    "def item_element(A):\n",
    "    M, N = A.shape\n",
    "    for m in range(M):\n",
    "        for n in range(N):\n",
    "            a = A.item((m,n))\n",
    "\n",
    "def indice_element(A):\n",
    "    M, N = A.shape\n",
    "    for m in range(M):\n",
    "        for n in range(N):\n",
    "            a = A[m,n]\n",
    "\n",
    "def itemset_element(A):\n",
    "    M, N = A.shape\n",
    "    for m in range(M):\n",
    "        for n in range(N):\n",
    "            A.itemset((m,n), 1.0)\n",
    "\n",
    "def indiceset_element(A):\n",
    "    M, N = A.shape\n",
    "    for m in range(M):\n",
    "        for n in range(N):\n",
    "            A[m,n] = 1.0\n",
    "\n",
    "A = np.random.rand(1000,20000)"
   ]
  },
  {
   "cell_type": "code",
   "execution_count": 13,
   "metadata": {},
   "outputs": [],
   "source": [
    "def trans_numpy(s):\n",
    "    actions = ['N','S','W','E']\n",
    "    prob = sr.SpeedRacer(s=s, n=10, o=10, obstacle_loc=None, start_loc=None, end_loc=None)\n",
    "    next_state_tensor = np.zeros(shape=(prob.s,prob.s,4,5,2),dtype=int)\n",
    "    move_tensor = np.zeros(shape=(prob.s,prob.s,4,5,2),dtype=int)\n",
    "    for i in range(prob.s):\n",
    "        for j in range(prob.s):\n",
    "            for a in range(4):\n",
    "                action = actions[a]\n",
    "                ans = prob.trans_numpy(np.array([i,j],dtype=int),action)\n",
    "                next_state_tensor[i,j,a,:,:] = ans['index']\n",
    "                move_tensor[i,j,a,:,:] = ans['move']\n",
    "    return {'move_tensor': move_tensor, 'next_state_tensor':next_state_tensor}\n",
    "\n",
    "\n",
    "def trans_list(s):\n",
    "    actions = ['N','S','E','W']\n",
    "    prob = sr.SpeedRacer(s=s, n=10, o=10, obstacle_loc=None, start_loc=None, end_loc=None)\n",
    "    next_state_tensor = []\n",
    "    move_tensor = []\n",
    "    for i in range(prob.s):\n",
    "        move_i_row = []\n",
    "        state_i_row = []\n",
    "        for j in range(prob.s):\n",
    "            move_j_column = []\n",
    "            state_j_column = []\n",
    "            for a in range(4):\n",
    "                action = actions[a]\n",
    "                ans = prob.trans_list([i,j],action)\n",
    "                move_j_column.append(ans['move'])\n",
    "                state_j_column.append(ans['index'])\n",
    "            move_i_row.append(move_j_column)\n",
    "            state_i_row.append(state_j_column)\n",
    "        next_state_tensor.append(state_i_row)\n",
    "        move_tensor.append(move_i_row)\n",
    "    return {'move_tensor': move_tensor, 'next_state_tensor':next_state_tensor}      "
   ]
  },
  {
   "cell_type": "code",
   "execution_count": 31,
   "metadata": {},
   "outputs": [
    {
     "name": "stdout",
     "output_type": "stream",
     "text": [
      "=====>Numpy\n",
      "grid = 10: 100 loops, best of 3: 6.31 ms per loop\n",
      "grid = 20: 10 loops, best of 3: 25.4 ms per loop\n",
      "grid = 30: 10 loops, best of 3: 57 ms per loop\n",
      "grid = 40: 10 loops, best of 3: 100 ms per loop\n",
      "grid = 50: 10 loops, best of 3: 157 ms per loop\n",
      "grid = 60: 1 loop, best of 3: 226 ms per loop\n",
      "grid = 70: 1 loop, best of 3: 308 ms per loop\n",
      "grid = 80: 1 loop, best of 3: 403 ms per loop\n",
      "grid = 90: 1 loop, best of 3: 509 ms per loop\n",
      "=====>List\n",
      "grid = 10: 100 loops, best of 3: 4.54 ms per loop\n",
      "grid = 20: 100 loops, best of 3: 18.5 ms per loop\n",
      "grid = 30: 10 loops, best of 3: 41 ms per loop\n",
      "grid = 40: 10 loops, best of 3: 72.4 ms per loop\n",
      "grid = 50: 10 loops, best of 3: 115 ms per loop\n",
      "grid = 60: 10 loops, best of 3: 167 ms per loop\n",
      "grid = 70: 1 loop, best of 3: 204 ms per loop\n",
      "grid = 80: 1 loop, best of 3: 269 ms per loop\n",
      "grid = 90: 1 loop, best of 3: 344 ms per loop\n"
     ]
    }
   ],
   "source": [
    "print(\"=====>Numpy\")\n",
    "print(\"grid = 10: \",end='')\n",
    "%timeit n10 = trans_numpy(10)\n",
    "print(\"grid = 20: \",end='')\n",
    "%timeit n20 = trans_numpy(20)\n",
    "print(\"grid = 30: \",end='')\n",
    "%timeit n30 = trans_numpy(30)\n",
    "print(\"grid = 40: \",end='')\n",
    "%timeit n40 = trans_numpy(40)\n",
    "print(\"grid = 50: \",end='')\n",
    "%timeit n50 = trans_numpy(50)\n",
    "print(\"grid = 60: \",end='')\n",
    "%timeit n60 = trans_numpy(60)\n",
    "print(\"grid = 70: \",end='')\n",
    "%timeit n70 = trans_numpy(70)\n",
    "print(\"grid = 80: \",end='')\n",
    "%timeit n80 = trans_numpy(80)\n",
    "print(\"grid = 90: \",end='')\n",
    "%timeit n90 = trans_numpy(90)\n",
    "\n",
    "print(\"=====>List\")\n",
    "print(\"grid = 10: \",end='')\n",
    "%timeit l10 = trans_list(10)\n",
    "print(\"grid = 20: \",end='')\n",
    "%timeit l20 = trans_list(20)\n",
    "print(\"grid = 30: \",end='')\n",
    "%timeit l30 = trans_list(30)\n",
    "print(\"grid = 40: \",end='')\n",
    "%timeit l40 = trans_list(40)\n",
    "print(\"grid = 50: \",end='')\n",
    "%timeit l50 = trans_list(50)\n",
    "print(\"grid = 60: \",end='')\n",
    "%timeit l60 = trans_list(60)\n",
    "print(\"grid = 70: \",end='')\n",
    "%timeit l70 = trans_list(70)\n",
    "print(\"grid = 80: \",end='')\n",
    "%timeit l80 = trans_list(80)\n",
    "print(\"grid = 90: \",end='')\n",
    "%timeit l90 = trans_list(90)"
   ]
  },
  {
   "cell_type": "code",
   "execution_count": 14,
   "metadata": {},
   "outputs": [],
   "source": [
    "n10 = trans_numpy(10)\n",
    "n20 = trans_numpy(20)\n",
    "n30 = trans_numpy(30)\n",
    "n40 = trans_numpy(40)\n",
    "n50 = trans_numpy(50)\n",
    "n60 = trans_numpy(60)\n",
    "n70 = trans_numpy(70)\n",
    "n80 = trans_numpy(80)\n",
    "n90 = trans_numpy(90)\n",
    "\n",
    "l10 = trans_list(10)\n",
    "l20 = trans_list(20)\n",
    "l30 = trans_list(30)\n",
    "l40 = trans_list(40)\n",
    "l50 = trans_list(50)\n",
    "l60 = trans_list(60)\n",
    "l70 = trans_list(70)\n",
    "l80 = trans_list(80)\n",
    "l90 = trans_list(90)"
   ]
  },
  {
   "cell_type": "code",
   "execution_count": 4,
   "metadata": {},
   "outputs": [
    {
     "data": {
      "text/plain": [
       "(10, 10, 4, 5, 2)"
      ]
     },
     "execution_count": 4,
     "metadata": {},
     "output_type": "execute_result"
    }
   ],
   "source": [
    "n10['move_tensor'].shape"
   ]
  },
  {
   "cell_type": "code",
   "execution_count": 42,
   "metadata": {},
   "outputs": [
    {
     "data": {
      "text/plain": [
       "[0, 0]"
      ]
     },
     "execution_count": 42,
     "metadata": {},
     "output_type": "execute_result"
    }
   ],
   "source": [
    "l10['move_tensor'][0][0][0][0]"
   ]
  },
  {
   "cell_type": "code",
   "execution_count": 36,
   "metadata": {},
   "outputs": [],
   "source": [
    "def trans_numpy2(s):\n",
    "    actions = ['N','S','W','E']\n",
    "    prob = sr.SpeedRacer(s=s, n=10, o=10, obstacle_loc=None, start_loc=None, end_loc=None)\n",
    "#     next_state_tensor = np.zeros(shape=(prob.s,prob.s,4,4,2))\n",
    "#     move_tensor = np.zeros(shape=(prob.s,prob.s,4,4,2))\n",
    "    for i in range(prob.s):\n",
    "        for j in range(prob.s):\n",
    "            for a in range(4):\n",
    "                action = actions[a]\n",
    "                ans = prob.trans_numpy(np.array([i,j]),action)\n",
    "#                 next_state_tensor[i,j,a,:,:] = ans['index']\n",
    "#                 move_tensor[i,j,a,:,:] = ans['move']\n",
    "#     return {'move_tensor': move_tensor, 'next_state_tensor':next_state_tensor}\n",
    "\n",
    "\n",
    "def trans_list2(s):\n",
    "    actions = ['N','S','W','E']\n",
    "    prob = sr.SpeedRacer(s=s, n=10, o=10, obstacle_loc=None, start_loc=None, end_loc=None)\n",
    "#     next_state_tensor = []\n",
    "#     move_tensor = []\n",
    "    for i in range(prob.s):\n",
    "#         move_i_row = []\n",
    "#         state_i_row = []\n",
    "        for j in range(prob.s):\n",
    "#             move_j_column = []\n",
    "#             state_j_column = []\n",
    "            for a in range(4):\n",
    "                action = actions[a]\n",
    "                ans = prob.trans_list([i,j],action)\n",
    "#                 move_j_column.append(ans['move'])\n",
    "#                 state_j_column.append(ans['index'])\n",
    "#             move_i_row.append(move_j_column)\n",
    "#             state_i_row.append(state_j_column)\n",
    "#         next_state_tensor.append(state_i_row)\n",
    "#         move_tensor.append(move_i_row)\n",
    "#     return {'move_tensor': move_tensor, 'next_state_tensor':next_state_tensor}      "
   ]
  },
  {
   "cell_type": "code",
   "execution_count": 37,
   "metadata": {},
   "outputs": [
    {
     "name": "stdout",
     "output_type": "stream",
     "text": [
      "=====>Numpy2\n",
      "grid = 10: 100 loops, best of 3: 5.35 ms per loop\n",
      "grid = 20: 10 loops, best of 3: 21.2 ms per loop\n",
      "grid = 30: 10 loops, best of 3: 47.5 ms per loop\n",
      "grid = 40: 10 loops, best of 3: 84.3 ms per loop\n",
      "grid = 50: 10 loops, best of 3: 134 ms per loop\n",
      "grid = 60: 1 loop, best of 3: 187 ms per loop\n",
      "grid = 70: 1 loop, best of 3: 258 ms per loop\n",
      "grid = 80: 1 loop, best of 3: 339 ms per loop\n",
      "grid = 90: 1 loop, best of 3: 437 ms per loop\n",
      "=====>List2\n",
      "grid = 10: 100 loops, best of 3: 4.28 ms per loop\n",
      "grid = 20: 10 loops, best of 3: 17.7 ms per loop\n",
      "grid = 30: 10 loops, best of 3: 36.8 ms per loop\n",
      "grid = 40: 10 loops, best of 3: 65.8 ms per loop\n",
      "grid = 50: 10 loops, best of 3: 103 ms per loop\n",
      "grid = 60: 10 loops, best of 3: 154 ms per loop\n",
      "grid = 70: 1 loop, best of 3: 222 ms per loop\n",
      "grid = 80: 1 loop, best of 3: 273 ms per loop\n",
      "grid = 90: 1 loop, best of 3: 342 ms per loop\n"
     ]
    }
   ],
   "source": [
    "print(\"=====>Numpy2\")\n",
    "print(\"grid = 10: \",end='')\n",
    "%timeit n10_2 = trans_numpy2(10)\n",
    "print(\"grid = 20: \",end='')\n",
    "%timeit n20_2 = trans_numpy2(20)\n",
    "print(\"grid = 30: \",end='')\n",
    "%timeit n30_2 = trans_numpy2(30)\n",
    "print(\"grid = 40: \",end='')\n",
    "%timeit n40_2 = trans_numpy2(40)\n",
    "print(\"grid = 50: \",end='')\n",
    "%timeit n50_2 = trans_numpy2(50)\n",
    "print(\"grid = 60: \",end='')\n",
    "%timeit n60_2 = trans_numpy2(60)\n",
    "print(\"grid = 70: \",end='')\n",
    "%timeit n70_2 = trans_numpy2(70)\n",
    "print(\"grid = 80: \",end='')\n",
    "%timeit n80_2 = trans_numpy2(80)\n",
    "print(\"grid = 90: \",end='')\n",
    "%timeit n90_2 = trans_numpy2(90)\n",
    "\n",
    "print(\"=====>List2\")\n",
    "print(\"grid = 10: \",end='')\n",
    "%timeit l10_2 = trans_list2(10)\n",
    "print(\"grid = 20: \",end='')\n",
    "%timeit l20_2 = trans_list2(20)\n",
    "print(\"grid = 30: \",end='')\n",
    "%timeit l30_2 = trans_list2(30)\n",
    "print(\"grid = 40: \",end='')\n",
    "%timeit l40_2 = trans_list2(40)\n",
    "print(\"grid = 50: \",end='')\n",
    "%timeit l50_2 = trans_list2(50)\n",
    "print(\"grid = 60: \",end='')\n",
    "%timeit l60_2 = trans_list2(60)\n",
    "print(\"grid = 70: \",end='')\n",
    "%timeit l70_2 = trans_list2(70)\n",
    "print(\"grid = 80: \",end='')\n",
    "%timeit l80_2 = trans_list2(80)\n",
    "print(\"grid = 90: \",end='')\n",
    "%timeit l90_2 = trans_list2(90)"
   ]
  },
  {
   "cell_type": "code",
   "execution_count": 5,
   "metadata": {},
   "outputs": [
    {
     "data": {
      "text/plain": [
       "0.14142164385868916"
      ]
     },
     "execution_count": 5,
     "metadata": {},
     "output_type": "execute_result"
    }
   ],
   "source": [
    "xx = np.random.rand(50,23)\n",
    "idx = np.array([3,4])\n",
    "\n",
    "index = [i for i in idx]\n",
    "xx[idx[0],idx[1]]"
   ]
  },
  {
   "cell_type": "code",
   "execution_count": 25,
   "metadata": {},
   "outputs": [],
   "source": [
    "def make_Rmat(s):\n",
    "    Rmat = np.zeros(shape=(s,s))\n",
    "    for i in range(s):\n",
    "        for j in range(s):\n",
    "            r = np.random.rand\n",
    "            if r<0.8:\n",
    "                Rmat[i,j] = -1\n",
    "            elif r<0.95:\n",
    "                Rmat[i,j] = -101\n",
    "            else:\n",
    "                Rmat[i,j] = 99\n",
    "    return Rmat\n",
    "\n",
    "def iter_list(l,s,Rmat):\n",
    "    Utensor = np.zeros(shape=(s,s,4,5))\n",
    "    Rtensor = np.zeros(shape=(s,s,4,5))\n",
    "    for i in range(s):\n",
    "        i_slice = l['next_state_tensor'][i] ## needed?? maybe can be used to speed up\n",
    "        for j in range(s):\n",
    "            j_tuple = i_slice[j] ## needed?? maybe can be used to speed up\n",
    "            for ii in range(4):\n",
    "                for jj in range(5):\n",
    "                    index = j_tuple[ii][jj]\n",
    "                    Rtensor[i,j,ii,jj] = Rmat[index[0],index[1]]\n",
    "                    Utensor[i,j,ii,jj] = Rmat[index[0],index[1]]\n",
    "                    \n",
    "    \n",
    "def iter_numpy(l,s,Rmat):\n",
    "    Utensor = np.zeros(shape=(s,s,4,5))\n",
    "    Rtensor = np.zeros(shape=(s,s,4,5))\n",
    "    for i in range(s):\n",
    "        for j in range(s):\n",
    "            for ii in range(4):\n",
    "                for jj in range(5):\n",
    "                    index = l['next_state_tensor'][i,j,ii,jj,:]\n",
    "                    Rtensor[i,j,ii,jj] = Rmat[index[0],index[1]]\n",
    "                    Utensor[i,j,ii,jj] = Rmat[index[0],index[1]]\n",
    "            "
   ]
  },
  {
   "cell_type": "code",
   "execution_count": 27,
   "metadata": {},
   "outputs": [],
   "source": [
    "s_list = [10,20,30,40,50,60,70,80,90]\n",
    "l_list = [l10,l20,l30,l40,l50,l60,l70,l80,l90]\n",
    "n_list = [n10,n20,n30,n40,n50,n60,n70,n80,n90]"
   ]
  },
  {
   "cell_type": "code",
   "execution_count": 26,
   "metadata": {},
   "outputs": [
    {
     "name": "stdout",
     "output_type": "stream",
     "text": [
      "grid = 10: \n",
      "Numpy: 100 loops, best of 3: 4.25 ms per loop\n",
      "List : 100 loops, best of 3: 2.77 ms per loop\n",
      "grid = 20: \n",
      "Numpy: 100 loops, best of 3: 17.1 ms per loop\n",
      "List : 100 loops, best of 3: 11.4 ms per loop\n",
      "grid = 30: \n",
      "Numpy: 10 loops, best of 3: 37.9 ms per loop\n",
      "List : 10 loops, best of 3: 25.1 ms per loop\n",
      "grid = 40: \n",
      "Numpy: 10 loops, best of 3: 72.1 ms per loop\n",
      "List : 10 loops, best of 3: 44.8 ms per loop\n",
      "grid = 50: \n",
      "Numpy: 10 loops, best of 3: 107 ms per loop\n",
      "List : 10 loops, best of 3: 69.3 ms per loop\n",
      "grid = 60: \n",
      "Numpy: 10 loops, best of 3: 165 ms per loop\n",
      "List : 10 loops, best of 3: 106 ms per loop\n",
      "grid = 70: \n",
      "Numpy: 1 loop, best of 3: 210 ms per loop\n",
      "List : 10 loops, best of 3: 137 ms per loop\n",
      "grid = 80: \n",
      "Numpy: 1 loop, best of 3: 278 ms per loop\n",
      "List : 10 loops, best of 3: 187 ms per loop\n",
      "grid = 90: \n",
      "Numpy: 1 loop, best of 3: 342 ms per loop\n",
      "List : 1 loop, best of 3: 226 ms per loop\n"
     ]
    }
   ],
   "source": [
    "# with tmp slice\n",
    "for i in range(9):\n",
    "    s = s_list[i]\n",
    "    print(\"grid = %d: \" % s)\n",
    "    Rmat = make_Rmat(s)\n",
    "    print('Numpy: ',end='')\n",
    "    %timeit iter_numpy(n_list[i],s,Rmat)\n",
    "    print('List : ',end='')\n",
    "    %timeit iter_list(l_list[i],s,Rmat)"
   ]
  },
  {
   "cell_type": "code",
   "execution_count": 28,
   "metadata": {},
   "outputs": [
    {
     "data": {
      "text/plain": [
       "True"
      ]
     },
     "execution_count": 28,
     "metadata": {},
     "output_type": "execute_result"
    }
   ],
   "source": [
    "locs = [[1,2],[0,2],[4.2]]\n",
    "idx = [1,2]\n",
    "idx in locs"
   ]
  },
  {
   "cell_type": "code",
   "execution_count": 10,
   "metadata": {},
   "outputs": [],
   "source": [
    "def make_input(s,o,n):\n",
    "    with open('./input%d_%d_%d.txt' % (s,o,n), 'w') as f:\n",
    "        print('%d\\n%d\\n%d' % (s,n,o), file=f)\n",
    "        ox = np.floor(rand(o)*s).astype(int)\n",
    "        oy = np.floor(rand(o)*s).astype(int)\n",
    "        for i in range(o):\n",
    "            print('%d,%d' % (ox[i],oy[i]), file=f)\n",
    "        sx = np.floor(rand(n)*s).astype(int)\n",
    "        sy = np.floor(rand(n)*s).astype(int)\n",
    "        for i in range(n):\n",
    "            print('%d,%d' % (sx[i],sy[i]), file=f)\n",
    "        ex = np.floor(rand(n)*s).astype(int)\n",
    "        ey = np.floor(rand(n)*s).astype(int)\n",
    "        for i in range(n):\n",
    "            print('%d,%d' % (ex[i],ey[i]), file=f)"
   ]
  },
  {
   "cell_type": "code",
   "execution_count": 24,
   "metadata": {},
   "outputs": [],
   "source": [
    "make_input(400,10,1000000)"
   ]
  },
  {
   "cell_type": "code",
   "execution_count": 14,
   "metadata": {},
   "outputs": [],
   "source": [
    "def numpy_read(in_path):\n",
    "    line_ct = 0\n",
    "    for line in open(in_path, 'r'):\n",
    "        line_ct += 1\n",
    "        if line_ct == 1:\n",
    "            s = int(line.strip())  # size of grid\n",
    "        elif line_ct == 2:\n",
    "            n = int(line.strip())  # number of cars\n",
    "        elif line_ct == 3:\n",
    "            o = int(line.strip())  # number of obstacles\n",
    "            break\n",
    "    location = np.loadtxt(in_path, np.int, delimiter=',', skiprows=3)\n",
    "    obstacle_loc = location[:o, :]  # the location of obstacles\n",
    "    start_loc = location[o:o + n, :]\n",
    "    end_loc = location[o + n:, :]\n",
    "    return {'obs':obstacle_loc, 'start':start_loc, 'end':end_loc}"
   ]
  },
  {
   "cell_type": "code",
   "execution_count": 15,
   "metadata": {},
   "outputs": [],
   "source": [
    "def list_read(in_path):\n",
    "    line_ct = 0\n",
    "    obstacle_loc = []\n",
    "    start_loc = []\n",
    "    end_loc = []\n",
    "    for line in open(in_path, 'r'):\n",
    "        line_ct += 1\n",
    "        if line_ct == 1:\n",
    "            s = int(line.strip())  # size of grid\n",
    "        elif line_ct == 2:\n",
    "            n = int(line.strip())  # number of cars\n",
    "        elif line_ct == 3:\n",
    "            o = int(line.strip())  # number of obstacles\n",
    "        elif line_ct<o+3:\n",
    "            tmp = line.strip().split(',')\n",
    "            obstacle_loc.append([int(tmp[0]),int(tmp[1])])\n",
    "        elif line_ct<3+o+n:\n",
    "            tmp = line.strip().split(',')\n",
    "            start_loc.append([int(tmp[0]),int(tmp[1])])\n",
    "        else:\n",
    "            tmp = line.strip().split(',')\n",
    "            end_loc.append([int(tmp[0]),int(tmp[1])])\n",
    "    return {'obs':obstacle_loc, 'start':start_loc, 'end':end_loc}"
   ]
  },
  {
   "cell_type": "code",
   "execution_count": 25,
   "metadata": {},
   "outputs": [
    {
     "name": "stdout",
     "output_type": "stream",
     "text": [
      "Numpy: CPU times: user 24.8 s, sys: 520 ms, total: 25.3 s\n",
      "Wall time: 25.9 s\n",
      "List : CPU times: user 7.33 s, sys: 225 ms, total: 7.55 s\n",
      "Wall time: 7.98 s\n"
     ]
    }
   ],
   "source": [
    "in_path = 'input400_10_1000000.txt'\n",
    "print(\"Numpy: \",end='')\n",
    "%time x = numpy_read(in_path)\n",
    "print(\"List : \",end='')\n",
    "%time x = list_read(in_path)"
   ]
  },
  {
   "cell_type": "code",
   "execution_count": 13,
   "metadata": {},
   "outputs": [],
   "source": [
    "Ptensor = np.ones(shape=(2,2, 4, 4), dtype=float)\n",
    "Ptensor[:,:,:,0] *=0.7\n",
    "Ptensor[:,:,:,1:] *= 0.1\n",
    "Ptensor[1,1,:,:]   "
   ]
  },
  {
   "cell_type": "code",
   "execution_count": 14,
   "metadata": {},
   "outputs": [
    {
     "data": {
      "text/plain": [
       "array([[[[0.7, 0.1, 0.1, 0.1],\n",
       "         [0.7, 0.1, 0.1, 0.1],\n",
       "         [0.7, 0.1, 0.1, 0.1],\n",
       "         [0.7, 0.1, 0.1, 0.1]],\n",
       "\n",
       "        [[0.7, 0.1, 0.1, 0.1],\n",
       "         [0.7, 0.1, 0.1, 0.1],\n",
       "         [0.7, 0.1, 0.1, 0.1],\n",
       "         [0.7, 0.1, 0.1, 0.1]]],\n",
       "\n",
       "\n",
       "       [[[0.7, 0.1, 0.1, 0.1],\n",
       "         [0.7, 0.1, 0.1, 0.1],\n",
       "         [0.7, 0.1, 0.1, 0.1],\n",
       "         [0.7, 0.1, 0.1, 0.1]],\n",
       "\n",
       "        [[1. , 1. , 1. , 1. ],\n",
       "         [1. , 1. , 1. , 1. ],\n",
       "         [1. , 1. , 1. , 1. ],\n",
       "         [1. , 1. , 1. , 1. ]]]])"
      ]
     },
     "execution_count": 14,
     "metadata": {},
     "output_type": "execute_result"
    }
   ],
   "source": [
    "Ptensor"
   ]
  },
  {
   "cell_type": "code",
   "execution_count": 17,
   "metadata": {},
   "outputs": [
    {
     "data": {
      "text/plain": [
       "1.0"
      ]
     },
     "execution_count": 17,
     "metadata": {},
     "output_type": "execute_result"
    }
   ],
   "source": [
    "np.max(Ptensor)"
   ]
  },
  {
   "cell_type": "code",
   "execution_count": null,
   "metadata": {},
   "outputs": [],
   "source": []
  }
 ],
 "metadata": {
  "kernelspec": {
   "display_name": "Python 2",
   "language": "python",
   "name": "python2"
  },
  "language_info": {
   "codemirror_mode": {
    "name": "ipython",
    "version": 2
   },
   "file_extension": ".py",
   "mimetype": "text/x-python",
   "name": "python",
   "nbconvert_exporter": "python",
   "pygments_lexer": "ipython2",
   "version": "2.7.15"
  }
 },
 "nbformat": 4,
 "nbformat_minor": 2
}
