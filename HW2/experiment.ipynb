{
 "cells": [
  {
   "cell_type": "code",
   "execution_count": 1,
   "metadata": {},
   "outputs": [],
   "source": [
    "from __future__ import print_function\n",
    "import numpy as np\n",
    "import homeless_service as hs"
   ]
  },
  {
   "cell_type": "code",
   "execution_count": 2,
   "metadata": {},
   "outputs": [],
   "source": [
    "arrays1 = [np.random.rand(1,7) for i in range(100)]\n",
    "arrays2 = [np.random.rand(1,7) for i in range(100)]"
   ]
  },
  {
   "cell_type": "code",
   "execution_count": 3,
   "metadata": {},
   "outputs": [],
   "source": [
    "# %time reduce(np.add,arrays1) > 52"
   ]
  },
  {
   "cell_type": "code",
   "execution_count": 4,
   "metadata": {},
   "outputs": [],
   "source": [
    "# %time np.add.reduce(arrays2) >52"
   ]
  },
  {
   "cell_type": "code",
   "execution_count": 5,
   "metadata": {},
   "outputs": [],
   "source": [
    "# %timeit reduce(np.add,arrays1) > 52"
   ]
  },
  {
   "cell_type": "code",
   "execution_count": 6,
   "metadata": {},
   "outputs": [],
   "source": [
    "# %timeit np.add.reduce(arrays2) >52"
   ]
  },
  {
   "cell_type": "code",
   "execution_count": 7,
   "metadata": {},
   "outputs": [],
   "source": [
    "# res = np.add.reduce(arrays2) >52"
   ]
  },
  {
   "cell_type": "code",
   "execution_count": 8,
   "metadata": {},
   "outputs": [],
   "source": [
    "# res"
   ]
  },
  {
   "cell_type": "code",
   "execution_count": 9,
   "metadata": {},
   "outputs": [],
   "source": [
    "# np.all(res)"
   ]
  },
  {
   "cell_type": "code",
   "execution_count": 10,
   "metadata": {},
   "outputs": [
    {
     "data": {
      "text/plain": [
       "True"
      ]
     },
     "execution_count": 10,
     "metadata": {},
     "output_type": "execute_result"
    }
   ],
   "source": [
    "np.all([True,True])"
   ]
  },
  {
   "cell_type": "code",
   "execution_count": 11,
   "metadata": {},
   "outputs": [],
   "source": [
    "# app_info = []\n",
    "# app_info.append(hs.ApplicantInfo('00001M035NNYY1111111'))\n",
    "# app_info.append(hs.ApplicantInfo('00002F020NNYY1100001'))\n",
    "# app_info.append(hs.ApplicantInfo('00003F020NNYY1001101'))\n",
    "# app_info.append(hs.ApplicantInfo('00004F025NNYY0000010'))\n",
    "# app_info.append(hs.ApplicantInfo('00005F020YNYY0011000'))\n",
    "# app_info.append(hs.ApplicantInfo('00006F020NNYY1001011'))\n",
    "# app_info.append(hs.ApplicantInfo('00007M016NNYY1101110'))"
   ]
  },
  {
   "cell_type": "code",
   "execution_count": 12,
   "metadata": {},
   "outputs": [],
   "source": [
    "f = lambda l: [[i - 1 for i in k] for k in l]\n",
    "SPLA = f([[1, 5, 2, 7], [1, 4, 5, 7], [3, 1, 5, 7], [3, 5, 2, 7], [3, 4, 5, 7]])\n",
    "LAHSA = f([[4, 3, 6], [3, 2, 6], [4, 2, 6], [4, 1, 6], [1, 2, 6]])"
   ]
  },
  {
   "cell_type": "code",
   "execution_count": 13,
   "metadata": {},
   "outputs": [],
   "source": [
    "from itertools import permutations"
   ]
  },
  {
   "cell_type": "code",
   "execution_count": 20,
   "metadata": {},
   "outputs": [],
   "source": [
    "prob = hs.problem_generator('input1.txt')"
   ]
  },
  {
   "cell_type": "code",
   "execution_count": 21,
   "metadata": {},
   "outputs": [
    {
     "data": {
      "text/plain": [
       "{1: 00001M035NNYY[1 1 1 1 1 1 1],\n",
       " 2: 00002F020NNYY[1 1 0 0 0 0 1],\n",
       " 3: 00003F020NNYY[1 0 0 1 1 0 1],\n",
       " 4: 00004F025NNYY[0 0 0 0 0 1 0],\n",
       " 5: 00005F020YNYY[0 0 1 1 0 0 0],\n",
       " 6: 00006F020NNYY[1 0 0 1 0 1 1],\n",
       " 7: 00007M016NNYY[1 1 0 1 1 1 0]}"
      ]
     },
     "execution_count": 21,
     "metadata": {},
     "output_type": "execute_result"
    }
   ],
   "source": [
    "prob.app_info"
   ]
  },
  {
   "cell_type": "code",
   "execution_count": 22,
   "metadata": {},
   "outputs": [],
   "source": [
    "prob.solve()"
   ]
  },
  {
   "cell_type": "code",
   "execution_count": 23,
   "metadata": {},
   "outputs": [
    {
     "data": {
      "text/plain": [
       "[{'LAHSA': [2, 4, 6], 'SPLA': [1, 3, 5, 7]},\n",
       " {'LAHSA': [2, 3, 6], 'SPLA': [1, 4, 5, 7]},\n",
       " {'LAHSA': [2, 3, 6], 'SPLA': [1, 5, 4, 7]},\n",
       " {'LAHSA': [2, 4, 6], 'SPLA': [1, 5, 3, 7]},\n",
       " {'LAHSA': [3, 4, 6], 'SPLA': [1, 2, 5, 7]},\n",
       " {'LAHSA': [3, 2, 6], 'SPLA': [1, 4, 5, 7]},\n",
       " {'LAHSA': [3, 2, 6], 'SPLA': [1, 5, 4, 7]},\n",
       " {'LAHSA': [3, 4, 6], 'SPLA': [1, 5, 2, 7]},\n",
       " {'LAHSA': [4, 3, 6], 'SPLA': [1, 2, 5, 7]},\n",
       " {'LAHSA': [4, 2, 6], 'SPLA': [1, 3, 5, 7]},\n",
       " {'LAHSA': [4, 2, 6], 'SPLA': [1, 5, 3, 7]},\n",
       " {'LAHSA': [4, 3, 6], 'SPLA': [1, 5, 2, 7]},\n",
       " {'LAHSA': [3, 4, 6], 'SPLA': [2, 1, 5, 7]},\n",
       " {'LAHSA': [3, 6], 'SPLA': [2, 4, 1, 5, 7]},\n",
       " {'LAHSA': [3, 6], 'SPLA': [2, 4, 5, 1, 7]},\n",
       " {'LAHSA': [3, 4, 6], 'SPLA': [2, 5, 1, 7]},\n",
       " {'LAHSA': [4, 3, 6], 'SPLA': [2, 1, 5, 7]},\n",
       " {'LAHSA': [4, 6], 'SPLA': [2, 3, 1, 5, 7]},\n",
       " {'LAHSA': [4, 6], 'SPLA': [2, 3, 5, 1, 7]},\n",
       " {'LAHSA': [4, 3, 6], 'SPLA': [2, 5, 1, 7]},\n",
       " {'LAHSA': [2, 4, 6], 'SPLA': [3, 1, 5, 7]},\n",
       " {'LAHSA': [2, 6], 'SPLA': [3, 4, 1, 5, 7]},\n",
       " {'LAHSA': [2, 6], 'SPLA': [3, 4, 5, 1, 7]},\n",
       " {'LAHSA': [2, 4, 6], 'SPLA': [3, 5, 1, 7]},\n",
       " {'LAHSA': [4, 2, 6], 'SPLA': [3, 1, 5, 7]},\n",
       " {'LAHSA': [4, 6], 'SPLA': [3, 2, 1, 5, 7]},\n",
       " {'LAHSA': [4, 6], 'SPLA': [3, 2, 5, 1, 7]},\n",
       " {'LAHSA': [4, 2, 6], 'SPLA': [3, 5, 1, 7]},\n",
       " {'LAHSA': [2, 3, 6], 'SPLA': [4, 1, 5, 7]},\n",
       " {'LAHSA': [2, 6], 'SPLA': [4, 3, 1, 5, 7]},\n",
       " {'LAHSA': [2, 6], 'SPLA': [4, 3, 5, 1, 7]},\n",
       " {'LAHSA': [2, 3, 6], 'SPLA': [4, 5, 1, 7]},\n",
       " {'LAHSA': [3, 2, 6], 'SPLA': [4, 1, 5, 7]},\n",
       " {'LAHSA': [3, 6], 'SPLA': [4, 2, 1, 5, 7]},\n",
       " {'LAHSA': [3, 6], 'SPLA': [4, 2, 5, 1, 7]},\n",
       " {'LAHSA': [3, 2, 6], 'SPLA': [4, 5, 1, 7]},\n",
       " {'LAHSA': [2, 3, 6], 'SPLA': [5, 1, 4, 7]},\n",
       " {'LAHSA': [2, 4, 6], 'SPLA': [5, 1, 3, 7]},\n",
       " {'LAHSA': [2, 4, 6], 'SPLA': [5, 3, 1, 7]},\n",
       " {'LAHSA': [2, 3, 6], 'SPLA': [5, 4, 1, 7]},\n",
       " {'LAHSA': [3, 2, 6], 'SPLA': [5, 1, 4, 7]},\n",
       " {'LAHSA': [3, 4, 6], 'SPLA': [5, 1, 2, 7]},\n",
       " {'LAHSA': [3, 4, 6], 'SPLA': [5, 2, 1, 7]},\n",
       " {'LAHSA': [3, 2, 6], 'SPLA': [5, 4, 1, 7]},\n",
       " {'LAHSA': [4, 2, 6], 'SPLA': [5, 1, 3, 7]},\n",
       " {'LAHSA': [4, 3, 6], 'SPLA': [5, 1, 2, 7]},\n",
       " {'LAHSA': [4, 3, 6], 'SPLA': [5, 2, 1, 7]},\n",
       " {'LAHSA': [4, 2, 6], 'SPLA': [5, 3, 1, 7]}]"
      ]
     },
     "execution_count": 23,
     "metadata": {},
     "output_type": "execute_result"
    }
   ],
   "source": [
    "prob.resolution"
   ]
  },
  {
   "cell_type": "code",
   "execution_count": 24,
   "metadata": {},
   "outputs": [],
   "source": [
    "prob.solve_modify()"
   ]
  },
  {
   "cell_type": "code",
   "execution_count": 25,
   "metadata": {},
   "outputs": [
    {
     "data": {
      "text/plain": [
       "[{'LAHSA': [2, 4, 6], 'SPLA': [1, 3, 5, 7]},\n",
       " {'LAHSA': [2, 3, 6], 'SPLA': [1, 4, 5, 7]},\n",
       " {'LAHSA': [2, 3, 6], 'SPLA': [1, 5, 4, 7]},\n",
       " {'LAHSA': [2, 4, 6], 'SPLA': [1, 5, 3, 7]},\n",
       " {'LAHSA': [3, 4, 6], 'SPLA': [1, 2, 5, 7]},\n",
       " {'LAHSA': [3, 2, 6], 'SPLA': [1, 4, 5, 7]},\n",
       " {'LAHSA': [3, 2, 6], 'SPLA': [1, 5, 4, 7]},\n",
       " {'LAHSA': [3, 4, 6], 'SPLA': [1, 5, 2, 7]},\n",
       " {'LAHSA': [4, 3, 6], 'SPLA': [1, 2, 5, 7]},\n",
       " {'LAHSA': [4, 2, 6], 'SPLA': [1, 3, 5, 7]},\n",
       " {'LAHSA': [4, 2, 6], 'SPLA': [1, 5, 3, 7]},\n",
       " {'LAHSA': [4, 3, 6], 'SPLA': [1, 5, 2, 7]},\n",
       " {'LAHSA': [3, 4, 6], 'SPLA': [2, 1, 5, 7]},\n",
       " {'LAHSA': [3, 6], 'SPLA': [2, 4, 1, 5, 7]},\n",
       " {'LAHSA': [3, 6], 'SPLA': [2, 4, 5, 1, 7]},\n",
       " {'LAHSA': [3, 4, 6], 'SPLA': [2, 5, 1, 7]},\n",
       " {'LAHSA': [4, 3, 6], 'SPLA': [2, 1, 5, 7]},\n",
       " {'LAHSA': [4, 6], 'SPLA': [2, 3, 1, 5, 7]},\n",
       " {'LAHSA': [4, 6], 'SPLA': [2, 3, 5, 1, 7]},\n",
       " {'LAHSA': [4, 3, 6], 'SPLA': [2, 5, 1, 7]},\n",
       " {'LAHSA': [2, 4, 6], 'SPLA': [3, 1, 5, 7]},\n",
       " {'LAHSA': [2, 6], 'SPLA': [3, 4, 1, 5, 7]},\n",
       " {'LAHSA': [2, 6], 'SPLA': [3, 4, 5, 1, 7]},\n",
       " {'LAHSA': [2, 4, 6], 'SPLA': [3, 5, 1, 7]},\n",
       " {'LAHSA': [4, 2, 6], 'SPLA': [3, 1, 5, 7]},\n",
       " {'LAHSA': [4, 6], 'SPLA': [3, 2, 1, 5, 7]},\n",
       " {'LAHSA': [4, 6], 'SPLA': [3, 2, 5, 1, 7]},\n",
       " {'LAHSA': [4, 2, 6], 'SPLA': [3, 5, 1, 7]},\n",
       " {'LAHSA': [2, 3, 6], 'SPLA': [4, 1, 5, 7]},\n",
       " {'LAHSA': [2, 6], 'SPLA': [4, 3, 1, 5, 7]},\n",
       " {'LAHSA': [2, 6], 'SPLA': [4, 3, 5, 1, 7]},\n",
       " {'LAHSA': [2, 3, 6], 'SPLA': [4, 5, 1, 7]},\n",
       " {'LAHSA': [3, 2, 6], 'SPLA': [4, 1, 5, 7]},\n",
       " {'LAHSA': [3, 6], 'SPLA': [4, 2, 1, 5, 7]},\n",
       " {'LAHSA': [3, 6], 'SPLA': [4, 2, 5, 1, 7]},\n",
       " {'LAHSA': [3, 2, 6], 'SPLA': [4, 5, 1, 7]},\n",
       " {'LAHSA': [2, 3, 6], 'SPLA': [5, 1, 4, 7]},\n",
       " {'LAHSA': [2, 4, 6], 'SPLA': [5, 1, 3, 7]},\n",
       " {'LAHSA': [2, 4, 6], 'SPLA': [5, 3, 1, 7]},\n",
       " {'LAHSA': [2, 3, 6], 'SPLA': [5, 4, 1, 7]},\n",
       " {'LAHSA': [3, 2, 6], 'SPLA': [5, 1, 4, 7]},\n",
       " {'LAHSA': [3, 4, 6], 'SPLA': [5, 1, 2, 7]},\n",
       " {'LAHSA': [3, 4, 6], 'SPLA': [5, 2, 1, 7]},\n",
       " {'LAHSA': [3, 2, 6], 'SPLA': [5, 4, 1, 7]},\n",
       " {'LAHSA': [4, 2, 6], 'SPLA': [5, 1, 3, 7]},\n",
       " {'LAHSA': [4, 3, 6], 'SPLA': [5, 1, 2, 7]},\n",
       " {'LAHSA': [4, 3, 6], 'SPLA': [5, 2, 1, 7]},\n",
       " {'LAHSA': [4, 2, 6], 'SPLA': [5, 3, 1, 7]}]"
      ]
     },
     "execution_count": 25,
     "metadata": {},
     "output_type": "execute_result"
    }
   ],
   "source": [
    "prob.resolution_modify"
   ]
  },
  {
   "cell_type": "code",
   "execution_count": 26,
   "metadata": {},
   "outputs": [
    {
     "data": {
      "text/plain": [
       "0"
      ]
     },
     "execution_count": 26,
     "metadata": {},
     "output_type": "execute_result"
    }
   ],
   "source": [
    "cmp(prob.resolution_modify,prob.resolution)"
   ]
  },
  {
   "cell_type": "code",
   "execution_count": 28,
   "metadata": {},
   "outputs": [
    {
     "data": {
      "text/plain": [
       "(48, 48)"
      ]
     },
     "execution_count": 28,
     "metadata": {},
     "output_type": "execute_result"
    }
   ],
   "source": [
    "len(prob.resolution_modify),len(prob.resolution)"
   ]
  },
  {
   "cell_type": "code",
   "execution_count": null,
   "metadata": {},
   "outputs": [],
   "source": [
    "for i in range(48):\n",
    "    res1 = prob.resolution_modify[i]"
   ]
  }
 ],
 "metadata": {
  "kernelspec": {
   "display_name": "Python 2",
   "language": "python",
   "name": "python2"
  },
  "language_info": {
   "codemirror_mode": {
    "name": "ipython",
    "version": 2
   },
   "file_extension": ".py",
   "mimetype": "text/x-python",
   "name": "python",
   "nbconvert_exporter": "python",
   "pygments_lexer": "ipython2",
   "version": "2.7.15"
  }
 },
 "nbformat": 4,
 "nbformat_minor": 2
}
