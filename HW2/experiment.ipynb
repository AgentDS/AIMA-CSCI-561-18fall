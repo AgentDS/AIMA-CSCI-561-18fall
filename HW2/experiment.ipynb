{
 "cells": [
  {
   "cell_type": "code",
   "execution_count": 1,
   "metadata": {},
   "outputs": [],
   "source": [
    "from __future__ import print_function\n",
    "import numpy as np\n",
    "import homeless_service as hs"
   ]
  },
  {
   "cell_type": "code",
   "execution_count": 2,
   "metadata": {},
   "outputs": [],
   "source": [
    "arrays1 = [np.random.rand(1,7) for i in range(100)]\n",
    "arrays2 = [np.random.rand(1,7) for i in range(100)]"
   ]
  },
  {
   "cell_type": "code",
   "execution_count": 3,
   "metadata": {},
   "outputs": [],
   "source": [
    "# %time reduce(np.add,arrays1) > 52"
   ]
  },
  {
   "cell_type": "code",
   "execution_count": 4,
   "metadata": {},
   "outputs": [],
   "source": [
    "# %time np.add.reduce(arrays2) >52"
   ]
  },
  {
   "cell_type": "code",
   "execution_count": 5,
   "metadata": {},
   "outputs": [],
   "source": [
    "# %timeit reduce(np.add,arrays1) > 52"
   ]
  },
  {
   "cell_type": "code",
   "execution_count": 6,
   "metadata": {},
   "outputs": [],
   "source": [
    "# %timeit np.add.reduce(arrays2) >52"
   ]
  },
  {
   "cell_type": "code",
   "execution_count": 7,
   "metadata": {},
   "outputs": [],
   "source": [
    "# res = np.add.reduce(arrays2) >52"
   ]
  },
  {
   "cell_type": "code",
   "execution_count": 8,
   "metadata": {},
   "outputs": [],
   "source": [
    "# res"
   ]
  },
  {
   "cell_type": "code",
   "execution_count": 9,
   "metadata": {},
   "outputs": [],
   "source": [
    "# np.all(res)"
   ]
  },
  {
   "cell_type": "code",
   "execution_count": 10,
   "metadata": {},
   "outputs": [
    {
     "data": {
      "text/plain": [
       "True"
      ]
     },
     "execution_count": 10,
     "metadata": {},
     "output_type": "execute_result"
    }
   ],
   "source": [
    "np.all([True,True])"
   ]
  },
  {
   "cell_type": "code",
   "execution_count": 11,
   "metadata": {},
   "outputs": [],
   "source": [
    "# app_info = []\n",
    "# app_info.append(hs.ApplicantInfo('00001M035NNYY1111111'))\n",
    "# app_info.append(hs.ApplicantInfo('00002F020NNYY1100001'))\n",
    "# app_info.append(hs.ApplicantInfo('00003F020NNYY1001101'))\n",
    "# app_info.append(hs.ApplicantInfo('00004F025NNYY0000010'))\n",
    "# app_info.append(hs.ApplicantInfo('00005F020YNYY0011000'))\n",
    "# app_info.append(hs.ApplicantInfo('00006F020NNYY1001011'))\n",
    "# app_info.append(hs.ApplicantInfo('00007M016NNYY1101110'))"
   ]
  },
  {
   "cell_type": "code",
   "execution_count": 12,
   "metadata": {},
   "outputs": [],
   "source": [
    "f = lambda l: [[i - 1 for i in k] for k in l]\n",
    "SPLA = f([[1, 5, 2, 7], [1, 4, 5, 7], [3, 1, 5, 7], [3, 5, 2, 7], [3, 4, 5, 7]])\n",
    "LAHSA = f([[4, 3, 6], [3, 2, 6], [4, 2, 6], [4, 1, 6], [1, 2, 6]])"
   ]
  },
  {
   "cell_type": "code",
   "execution_count": 13,
   "metadata": {},
   "outputs": [],
   "source": [
    "from itertools import permutations"
   ]
  },
  {
   "cell_type": "code",
   "execution_count": 30,
   "metadata": {},
   "outputs": [],
   "source": [
    "prob = hs.problem_generator('input2.txt')"
   ]
  },
  {
   "cell_type": "code",
   "execution_count": 31,
   "metadata": {},
   "outputs": [
    {
     "data": {
      "text/plain": [
       "{1: 00001M035NNYY[1 1 1 1 1 1 1],\n",
       " 2: 00002F020NNYY[1 1 0 0 0 0 1],\n",
       " 3: 00003F020NNYY[1 0 0 1 1 0 1],\n",
       " 4: 00004F025NNYY[0 0 0 0 0 1 0],\n",
       " 5: 00005F020YNYY[0 0 1 1 0 0 0],\n",
       " 6: 00006F020NNYY[1 0 0 1 0 1 1],\n",
       " 7: 00007M016NNYY[1 1 0 1 1 1 0]}"
      ]
     },
     "execution_count": 31,
     "metadata": {},
     "output_type": "execute_result"
    }
   ],
   "source": [
    "prob.app_info"
   ]
  },
  {
   "cell_type": "code",
   "execution_count": 32,
   "metadata": {},
   "outputs": [],
   "source": [
    "prob.solve()"
   ]
  },
  {
   "cell_type": "code",
   "execution_count": 33,
   "metadata": {},
   "outputs": [
    {
     "data": {
      "text/plain": [
       "[{'LAHSA': [4, 6, 2],\n",
       "  'LAHSA_eff': 0.11428571428571428,\n",
       "  'SPLA': [1, 5, 7, 3],\n",
       "  'SPLA_eff': 0.2571428571428571},\n",
       " {'LAHSA': [6, 2],\n",
       "  'LAHSA_eff': 0.1,\n",
       "  'SPLA': [4, 1, 5, 7, 3],\n",
       "  'SPLA_eff': 0.2714285714285714},\n",
       " {'LAHSA': [6, 2],\n",
       "  'LAHSA_eff': 0.1,\n",
       "  'SPLA': [4, 5, 1, 7, 3],\n",
       "  'SPLA_eff': 0.2714285714285714},\n",
       " {'LAHSA': [4, 6, 2],\n",
       "  'LAHSA_eff': 0.11428571428571428,\n",
       "  'SPLA': [5, 1, 7, 3],\n",
       "  'SPLA_eff': 0.2571428571428571}]"
      ]
     },
     "execution_count": 33,
     "metadata": {},
     "output_type": "execute_result"
    }
   ],
   "source": [
    "prob.resolution"
   ]
  },
  {
   "cell_type": "code",
   "execution_count": 34,
   "metadata": {},
   "outputs": [
    {
     "name": "stdout",
     "output_type": "stream",
     "text": [
      "{'SPLA': [4, 1, 5, 7, 3], 'SPLA_eff': 0.2714285714285714, 'LAHSA_eff': 0.1, 'LAHSA': [6, 2]}\n"
     ]
    }
   ],
   "source": [
    "prob.solve_modify()"
   ]
  },
  {
   "cell_type": "code",
   "execution_count": 35,
   "metadata": {},
   "outputs": [
    {
     "data": {
      "text/plain": [
       "[{'LAHSA': [4, 6, 2],\n",
       "  'LAHSA_eff': 0.11428571428571428,\n",
       "  'SPLA': [1, 5, 7, 3],\n",
       "  'SPLA_eff': 0.2571428571428571},\n",
       " {'LAHSA': [6, 2],\n",
       "  'LAHSA_eff': 0.1,\n",
       "  'SPLA': [4, 1, 5, 7, 3],\n",
       "  'SPLA_eff': 0.2714285714285714},\n",
       " {'LAHSA': [6, 2],\n",
       "  'LAHSA_eff': 0.1,\n",
       "  'SPLA': [4, 5, 1, 7, 3],\n",
       "  'SPLA_eff': 0.2714285714285714},\n",
       " {'LAHSA': [4, 6, 2],\n",
       "  'LAHSA_eff': 0.11428571428571428,\n",
       "  'SPLA': [5, 1, 7, 3],\n",
       "  'SPLA_eff': 0.2571428571428571}]"
      ]
     },
     "execution_count": 35,
     "metadata": {},
     "output_type": "execute_result"
    }
   ],
   "source": [
    "prob.resolution_modify"
   ]
  },
  {
   "cell_type": "code",
   "execution_count": 36,
   "metadata": {},
   "outputs": [
    {
     "data": {
      "text/plain": [
       "0"
      ]
     },
     "execution_count": 36,
     "metadata": {},
     "output_type": "execute_result"
    }
   ],
   "source": [
    "cmp(prob.resolution_modify,prob.resolution)"
   ]
  },
  {
   "cell_type": "code",
   "execution_count": 37,
   "metadata": {},
   "outputs": [
    {
     "data": {
      "text/plain": [
       "(4, 4)"
      ]
     },
     "execution_count": 37,
     "metadata": {},
     "output_type": "execute_result"
    }
   ],
   "source": [
    "len(prob.resolution_modify),len(prob.resolution)"
   ]
  },
  {
   "cell_type": "code",
   "execution_count": 38,
   "metadata": {},
   "outputs": [
    {
     "data": {
      "text/plain": [
       "250"
      ]
     },
     "execution_count": 38,
     "metadata": {},
     "output_type": "execute_result"
    }
   ],
   "source": [
    "318 - (168-100)"
   ]
  },
  {
   "cell_type": "code",
   "execution_count": null,
   "metadata": {},
   "outputs": [],
   "source": []
  }
 ],
 "metadata": {
  "kernelspec": {
   "display_name": "Python 2",
   "language": "python",
   "name": "python2"
  },
  "language_info": {
   "codemirror_mode": {
    "name": "ipython",
    "version": 2
   },
   "file_extension": ".py",
   "mimetype": "text/x-python",
   "name": "python",
   "nbconvert_exporter": "python",
   "pygments_lexer": "ipython2",
   "version": "2.7.15"
  }
 },
 "nbformat": 4,
 "nbformat_minor": 2
}
